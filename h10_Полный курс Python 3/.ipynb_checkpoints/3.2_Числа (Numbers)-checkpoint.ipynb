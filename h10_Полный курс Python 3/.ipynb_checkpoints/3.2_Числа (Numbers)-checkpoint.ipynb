{
 "cells": [
  {
   "cell_type": "code",
   "execution_count": 13,
   "id": "09c28070-ab52-4c6a-9b1a-2098bb8b7f58",
   "metadata": {},
   "outputs": [
    {
     "name": "stdout",
     "output_type": "stream",
     "text": [
      "\n",
      " 3 \n",
      " 5 \n",
      " 6 \n",
      " 2.25\n"
     ]
    }
   ],
   "source": [
    "print(\n",
    "\"\\n\",\n",
    "2+1, \"\\n\",\n",
    "6-1, \"\\n\",\n",
    "2*3, \"\\n\",\n",
    "9/4\n",
    ")"
   ]
  },
  {
   "cell_type": "code",
   "execution_count": 17,
   "id": "a6114478-faf1-4101-b830-b6202f41a1c8",
   "metadata": {},
   "outputs": [
    {
     "data": {
      "text/plain": [
       "True"
      ]
     },
     "execution_count": 17,
     "metadata": {},
     "output_type": "execute_result"
    }
   ],
   "source": [
    "9 == 4*2+1"
   ]
  },
  {
   "cell_type": "code",
   "execution_count": 21,
   "id": "fa43d626-e32f-4a4c-a5ba-edee3267e966",
   "metadata": {},
   "outputs": [
    {
     "data": {
      "text/plain": [
       "1"
      ]
     },
     "execution_count": 21,
     "metadata": {},
     "output_type": "execute_result"
    }
   ],
   "source": [
    "# Остаток от-деления\n",
    "9 % 2"
   ]
  },
  {
   "cell_type": "code",
   "execution_count": 23,
   "id": "318b84ff-8d7e-4b81-a301-9c0e50a3a15c",
   "metadata": {},
   "outputs": [
    {
     "data": {
      "text/plain": [
       "0"
      ]
     },
     "execution_count": 23,
     "metadata": {},
     "output_type": "execute_result"
    }
   ],
   "source": [
    "# Делится-ли число-50 на-число-5 ?\n",
    "50 % 5"
   ]
  },
  {
   "cell_type": "markdown",
   "id": "79a007fd-22ee-482b-893b-5a29aa4aa5dc",
   "metadata": {},
   "source": [
    "Видим, что да. делится."
   ]
  },
  {
   "cell_type": "code",
   "execution_count": null,
   "id": "3fdb8736-9aa5-4243-a453-c7dfc46d02dd",
   "metadata": {},
   "outputs": [],
   "source": [
    "# Порядок_операций как-в-математике."
   ]
  },
  {
   "cell_type": "code",
   "execution_count": 29,
   "id": "7e25b264-9653-4ab7-a68c-e040efad8945",
   "metadata": {},
   "outputs": [
    {
     "data": {
      "text/plain": [
       "5.551115123125783e-17"
      ]
     },
     "execution_count": 29,
     "metadata": {},
     "output_type": "execute_result"
    }
   ],
   "source": [
    "0.1+0.2-0.3"
   ]
  },
  {
   "cell_type": "code",
   "execution_count": 31,
   "id": "cd1dabf3-6d4a-4ef9-812c-3d9dfa58b64f",
   "metadata": {},
   "outputs": [
    {
     "data": {
      "text/plain": [
       "0.5"
      ]
     },
     "execution_count": 31,
     "metadata": {},
     "output_type": "execute_result"
    }
   ],
   "source": [
    "1/2"
   ]
  },
  {
   "cell_type": "code",
   "execution_count": null,
   "id": "fa9270b4-0707-4644-ac43-73cfe7129447",
   "metadata": {},
   "outputs": [],
   "source": []
  }
 ],
 "metadata": {
  "kernelspec": {
   "display_name": "Python 3 (ipykernel)",
   "language": "python",
   "name": "python3"
  },
  "language_info": {
   "codemirror_mode": {
    "name": "ipython",
    "version": 3
   },
   "file_extension": ".py",
   "mimetype": "text/x-python",
   "name": "python",
   "nbconvert_exporter": "python",
   "pygments_lexer": "ipython3",
   "version": "3.12.4"
  }
 },
 "nbformat": 4,
 "nbformat_minor": 5
}
