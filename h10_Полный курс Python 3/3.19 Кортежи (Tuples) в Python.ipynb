{
 "cells": [
  {
   "cell_type": "code",
   "execution_count": 26,
   "id": "12c5681c-de23-431a-9949-9d67717611cf",
   "metadata": {},
   "outputs": [
    {
     "name": "stdout",
     "output_type": "stream",
     "text": [
      "<class 'tuple'>\n",
      "<class 'list'>\n"
     ]
    }
   ],
   "source": [
    "# 3.19 Кортежи (Tuples) в Python\n",
    "\n",
    "tuple_1 = (1, 2, 3)\n",
    "list_1 = [1, 2, 3]\n",
    "print(type(tuple_1))\n",
    "print(type(list_1))"
   ]
  },
  {
   "cell_type": "code",
   "execution_count": null,
   "id": "23f47b71-b639-4206-a73b-d3da13ea811d",
   "metadata": {},
   "outputs": [],
   "source": [
    "# 2-метода:дополнительных,встроенных для-кортежей.\n",
    ".index()\n",
    ".count()"
   ]
  },
  {
   "cell_type": "code",
   "execution_count": 33,
   "id": "591f61cd-496f-4b35-b19b-4249b7f369dc",
   "metadata": {},
   "outputs": [
    {
     "name": "stdout",
     "output_type": "stream",
     "text": [
      "0\n",
      "2\n"
     ]
    }
   ],
   "source": [
    "t = (\"a\", \"b\", \"c\", \"a\")\n",
    "print(t.index(\"a\"))\n",
    "print(t.count(\"a\"))"
   ]
  },
  {
   "cell_type": "code",
   "execution_count": 41,
   "id": "f6ea6b04-3f39-472c-a89b-6cdef3e9c15e",
   "metadata": {},
   "outputs": [
    {
     "data": {
      "text/plain": [
       "['new', 2, 3]"
      ]
     },
     "execution_count": 41,
     "metadata": {},
     "output_type": "execute_result"
    }
   ],
   "source": [
    "tuple_1 = (1, 2, 3)\n",
    "list_1 = [1, 2, 3]\n",
    "list_1[0] = \"new\"\n",
    "list_1"
   ]
  },
  {
   "cell_type": "code",
   "execution_count": 35,
   "id": "986cb2f1-8967-447a-96e2-418ae32169e9",
   "metadata": {},
   "outputs": [
    {
     "ename": "TypeError",
     "evalue": "'tuple' object does not support item assignment",
     "output_type": "error",
     "traceback": [
      "\u001b[0;31m---------------------------------------------------------------------------\u001b[0m",
      "\u001b[0;31mTypeError\u001b[0m                                 Traceback (most recent call last)",
      "Cell \u001b[0;32mIn[35], line 1\u001b[0m\n\u001b[0;32m----> 1\u001b[0m tuple_1[\u001b[38;5;241m0\u001b[39m] \u001b[38;5;241m=\u001b[39m \u001b[38;5;124m\"\u001b[39m\u001b[38;5;124mNEW\u001b[39m\u001b[38;5;124m\"\u001b[39m\n",
      "\u001b[0;31mTypeError\u001b[0m: 'tuple' object does not support item assignment"
     ]
    }
   ],
   "source": [
    "tuple_1[0] = \"NEW\""
   ]
  },
  {
   "cell_type": "code",
   "execution_count": null,
   "id": "1ee61b72-f6ca-46d1-8c57-7e42853dd672",
   "metadata": {},
   "outputs": [],
   "source": []
  }
 ],
 "metadata": {
  "kernelspec": {
   "display_name": "Python 3 (ipykernel)",
   "language": "python",
   "name": "python3"
  },
  "language_info": {
   "codemirror_mode": {
    "name": "ipython",
    "version": 3
   },
   "file_extension": ".py",
   "mimetype": "text/x-python",
   "name": "python",
   "nbconvert_exporter": "python",
   "pygments_lexer": "ipython3",
   "version": "3.12.4"
  }
 },
 "nbformat": 4,
 "nbformat_minor": 5
}
