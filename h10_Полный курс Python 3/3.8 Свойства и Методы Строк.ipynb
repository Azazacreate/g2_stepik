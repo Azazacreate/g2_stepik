{
 "cells": [
  {
   "cell_type": "code",
   "execution_count": 1,
   "id": "5be63503-5b21-4cda-8cb9-489624e935d9",
   "metadata": {},
   "outputs": [
    {
     "data": {
      "text/plain": [
       "'Bam'"
      ]
     },
     "execution_count": 1,
     "metadata": {},
     "output_type": "execute_result"
    }
   ],
   "source": [
    "name = \"Sam\"\n",
    "\"B\" + name[1:]"
   ]
  },
  {
   "cell_type": "code",
   "execution_count": 11,
   "id": "893d4006-9660-4130-8be4-e18b8e627c7a",
   "metadata": {},
   "outputs": [
    {
     "data": {
      "text/plain": [
       "'Hello world'"
      ]
     },
     "execution_count": 11,
     "metadata": {},
     "output_type": "execute_result"
    }
   ],
   "source": [
    "x = \"hello world\"\n",
    "x.capitalize()"
   ]
  },
  {
   "cell_type": "code",
   "execution_count": 13,
   "id": "4132d31e-8261-4ebd-8feb-be82e9c9363e",
   "metadata": {},
   "outputs": [
    {
     "data": {
      "text/plain": [
       "['hello', 'world']"
      ]
     },
     "execution_count": 13,
     "metadata": {},
     "output_type": "execute_result"
    }
   ],
   "source": [
    "x.split()"
   ]
  },
  {
   "cell_type": "code",
   "execution_count": 19,
   "id": "ebb1c3d6-b050-4813-b2a7-eddbbfc5eff6",
   "metadata": {},
   "outputs": [
    {
     "data": {
      "text/plain": [
       "['He', '', 'o wor', 'd']"
      ]
     },
     "execution_count": 19,
     "metadata": {},
     "output_type": "execute_result"
    }
   ],
   "source": [
    "x = 'Hello world'\n",
    "x.split(\"l\")"
   ]
  },
  {
   "cell_type": "code",
   "execution_count": null,
   "id": "56ca8c42-d8cb-46ca-afb1-1c8b9402307d",
   "metadata": {},
   "outputs": [],
   "source": [
    "Форматирование Float с-помощью f-string:\n",
    "\"{value:width.precision f}\""
   ]
  },
  {
   "cell_type": "code",
   "execution_count": 37,
   "id": "dc68676d-1077-49f1-b667-8f80f7bcc2ea",
   "metadata": {},
   "outputs": [
    {
     "data": {
      "text/plain": [
       "0.1287001287001287"
      ]
     },
     "execution_count": 37,
     "metadata": {},
     "output_type": "execute_result"
    }
   ],
   "source": [
    "100 / 777"
   ]
  },
  {
   "cell_type": "code",
   "execution_count": 41,
   "id": "a31b5ec6-839a-4770-a1c8-41a5578a28c3",
   "metadata": {},
   "outputs": [
    {
     "name": "stdout",
     "output_type": "stream",
     "text": [
      "0.1287001287001287\n"
     ]
    }
   ],
   "source": [
    "r = 100/777\n",
    "print(\"{r}\".format(r=r))"
   ]
  },
  {
   "cell_type": "code",
   "execution_count": 43,
   "id": "98b95c5e-7fe9-4913-be9a-d7025c52c38e",
   "metadata": {},
   "outputs": [
    {
     "name": "stdout",
     "output_type": "stream",
     "text": [
      "0.129\n"
     ]
    }
   ],
   "source": [
    "print(\"{r:1.3f}\".format(r=r))"
   ]
  },
  {
   "cell_type": "code",
   "execution_count": 45,
   "id": "5dacbcb0-9b85-466b-9658-f5f06fc018f5",
   "metadata": {},
   "outputs": [
    {
     "name": "stdout",
     "output_type": "stream",
     "text": [
      "     0.129\n"
     ]
    }
   ],
   "source": [
    "print(\"{r:10.3f}\".format(r=r))"
   ]
  },
  {
   "cell_type": "code",
   "execution_count": 49,
   "id": "27351c4d-7c51-471e-9459-fdf791a68461",
   "metadata": {},
   "outputs": [
    {
     "name": "stdout",
     "output_type": "stream",
     "text": [
      "Vlad\n"
     ]
    }
   ],
   "source": [
    "# f-string\n",
    "name = \"Vlad\"\n",
    "print(f\"{name}\")"
   ]
  },
  {
   "cell_type": "code",
   "execution_count": 55,
   "id": "e8c16f98-d2bc-4e14-b30a-968dcc4b7ebc",
   "metadata": {},
   "outputs": [
    {
     "name": "stdout",
     "output_type": "stream",
     "text": [
      "[1, 2, 3, 'four', False, 'end.', '+']\n",
      "+\n",
      "[1, 2, 3, 'four', False, 'end.']\n"
     ]
    }
   ],
   "source": [
    "list = [1, 2, 3, \"four\", False, \"end.\"]\n",
    "list.append(\"+\")\n",
    "print(list)\n",
    "print(list.pop())\n",
    "print(list)"
   ]
  },
  {
   "cell_type": "code",
   "execution_count": 66,
   "id": "1034f25c-7031-4b83-bb13-8a8ed22443ca",
   "metadata": {},
   "outputs": [
    {
     "name": "stdout",
     "output_type": "stream",
     "text": [
      "1\n",
      "[2, 3, 'four', False, 'end.']\n"
     ]
    }
   ],
   "source": [
    "list = [1, 2, 3, 'four', False, 'end.']\n",
    "print(list.pop(0))\n",
    "print(list)"
   ]
  },
  {
   "cell_type": "code",
   "execution_count": 74,
   "id": "5392a99b-0b31-44c5-8592-8765d02c8a6b",
   "metadata": {},
   "outputs": [],
   "source": [
    "list_1 = [\"z\", \"a\", \"c\", \"b\"]\n",
    "list_2 = [4, 1, 3, 2]\n",
    "\n",
    "# .sort() = сортирует список и возвращает ничего.\n",
    "list_1.sort()"
   ]
  },
  {
   "cell_type": "code",
   "execution_count": 72,
   "id": "6c0c98c5-2aa6-40bb-a218-c87bc2cd7431",
   "metadata": {},
   "outputs": [
    {
     "data": {
      "text/plain": [
       "['a', 'b', 'c', 'z']"
      ]
     },
     "execution_count": 72,
     "metadata": {},
     "output_type": "execute_result"
    }
   ],
   "source": [
    "list_1"
   ]
  },
  {
   "cell_type": "code",
   "execution_count": 76,
   "id": "1812b678-c2eb-4952-a016-32ded3f5827b",
   "metadata": {},
   "outputs": [
    {
     "data": {
      "text/plain": [
       "['end.', False, 'four', 3, 2]"
      ]
     },
     "execution_count": 76,
     "metadata": {},
     "output_type": "execute_result"
    }
   ],
   "source": [
    "list.reverse()\n",
    "list"
   ]
  },
  {
   "cell_type": "code",
   "execution_count": null,
   "id": "990f3603-c134-4e8d-9eda-820db44de82a",
   "metadata": {},
   "outputs": [],
   "source": []
  }
 ],
 "metadata": {
  "kernelspec": {
   "display_name": "Python 3 (ipykernel)",
   "language": "python",
   "name": "python3"
  },
  "language_info": {
   "codemirror_mode": {
    "name": "ipython",
    "version": 3
   },
   "file_extension": ".py",
   "mimetype": "text/x-python",
   "name": "python",
   "nbconvert_exporter": "python",
   "pygments_lexer": "ipython3",
   "version": "3.12.4"
  }
 },
 "nbformat": 4,
 "nbformat_minor": 5
}
