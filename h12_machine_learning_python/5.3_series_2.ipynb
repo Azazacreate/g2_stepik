{
 "cells": [
  {
   "cell_type": "code",
   "execution_count": 48,
   "id": "2e10a904-7519-4fb9-94b0-e507b1074fa1",
   "metadata": {},
   "outputs": [],
   "source": [
    "import numpy as np\n",
    "import pandas as pd\n",
    "\n",
    "# Вымышленные данные о продажах за 1й и 2й квартал для некоторой глобальной компании в разных странах\n",
    "q1 = {'Japan': 80, 'China': 450, 'India': 200, 'USA': 250}\n",
    "q2 = {'Brazil': 100,'China': 500, 'India': 210,'USA': 260}"
   ]
  },
  {
   "cell_type": "code",
   "execution_count": 49,
   "id": "76ed467e-d68b-499b-8d91-1152584a03cf",
   "metadata": {},
   "outputs": [
    {
     "name": "stdout",
     "output_type": "stream",
     "text": [
      "Japan     80\n",
      "China    450\n",
      "India    200\n",
      "USA      250\n",
      "dtype: int64\n",
      "\n",
      "Brazil    100\n",
      "China     500\n",
      "India     210\n",
      "USA       260\n",
      "dtype: int64\n",
      "\n",
      "Index(['Japan', 'China', 'India', 'USA'], dtype='object')\n"
     ]
    }
   ],
   "source": [
    "# чувствительны к-регистру\n",
    "q1_sales = pd.Series(q1)\n",
    "q2_sales = pd.Series(q2)\n",
    "\n",
    "print(\n",
    "    q1_sales\n",
    "    ,q2_sales\n",
    "    ,q1_sales.keys()\n",
    "    ,sep='\\n\\n'\n",
    ")"
   ]
  },
  {
   "cell_type": "code",
   "execution_count": 50,
   "id": "3310b794-29eb-4f72-9a60-c570bfbc93a2",
   "metadata": {},
   "outputs": [
    {
     "data": {
      "text/plain": [
       "Japan    160\n",
       "China    900\n",
       "India    400\n",
       "USA      500\n",
       "dtype: int64"
      ]
     },
     "execution_count": 50,
     "metadata": {},
     "output_type": "execute_result"
    }
   ],
   "source": [
    "q1_sales * 2"
   ]
  },
  {
   "cell_type": "code",
   "execution_count": 51,
   "id": "10df9492-098e-4247-85a1-a5acc08d9592",
   "metadata": {},
   "outputs": [
    {
     "data": {
      "text/plain": [
       "Brazil    1.0\n",
       "China     5.0\n",
       "India     2.1\n",
       "USA       2.6\n",
       "dtype: float64"
      ]
     },
     "execution_count": 51,
     "metadata": {},
     "output_type": "execute_result"
    }
   ],
   "source": [
    "q2_sales / 100"
   ]
  },
  {
   "cell_type": "code",
   "execution_count": 52,
   "id": "924e2d43-271e-41b6-89ed-452f90e18b31",
   "metadata": {},
   "outputs": [
    {
     "data": {
      "text/plain": [
       "Brazil      NaN\n",
       "China     950.0\n",
       "India     410.0\n",
       "Japan       NaN\n",
       "USA       510.0\n",
       "dtype: float64"
      ]
     },
     "execution_count": 52,
     "metadata": {},
     "output_type": "execute_result"
    }
   ],
   "source": [
    "q1_sales + q2_sales    # если ключ-1 есть только-в-series-1 -> получите NaN"
   ]
  },
  {
   "cell_type": "code",
   "execution_count": 64,
   "id": "ff2cd1a0-b5bc-4767-ac11-4735ff8d0007",
   "metadata": {},
   "outputs": [
    {
     "data": {
      "text/plain": [
       "Brazil    100.0\n",
       "China     950.0\n",
       "India     410.0\n",
       "Japan      80.0\n",
       "USA       510.0\n",
       "dtype: float64"
      ]
     },
     "execution_count": 64,
     "metadata": {},
     "output_type": "execute_result"
    }
   ],
   "source": [
    "# заменить отсутствие-ключа -> 0\n",
    "q1_and_q2 = q1_sales.add(q2_sales, None, 0)\n",
    "q1_and_q2"
   ]
  },
  {
   "cell_type": "code",
   "execution_count": 62,
   "id": "9bcad2c7-1e85-4c1d-b2b3-f8ba53c69a5a",
   "metadata": {},
   "outputs": [
    {
     "data": {
      "text/plain": [
       "dtype('float64')"
      ]
     },
     "execution_count": 62,
     "metadata": {},
     "output_type": "execute_result"
    }
   ],
   "source": [
    "q1_and_q2.dtype"
   ]
  },
  {
   "cell_type": "code",
   "execution_count": 72,
   "id": "5a1bcad4-7dcf-4816-b226-d9b10e680c91",
   "metadata": {},
   "outputs": [
    {
     "data": {
      "text/plain": [
       "Brazil    100.0\n",
       "China     950.0\n",
       "India     410.0\n",
       "Japan      80.0\n",
       "USA       510.0\n",
       "dtype: float64"
      ]
     },
     "execution_count": 72,
     "metadata": {},
     "output_type": "execute_result"
    }
   ],
   "source": []
  }
 ],
 "metadata": {
  "kernelspec": {
   "display_name": "Python [conda env:base] *",
   "language": "python",
   "name": "conda-base-py"
  },
  "language_info": {
   "codemirror_mode": {
    "name": "ipython",
    "version": 3
   },
   "file_extension": ".py",
   "mimetype": "text/x-python",
   "name": "python",
   "nbconvert_exporter": "python",
   "pygments_lexer": "ipython3",
   "version": "3.12.7"
  }
 },
 "nbformat": 4,
 "nbformat_minor": 5
}
