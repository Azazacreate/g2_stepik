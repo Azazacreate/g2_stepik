{
 "cells": [
  {
   "cell_type": "code",
   "execution_count": 12,
   "id": "af13d3e2-0461-4ec6-83d4-966bf11b152b",
   "metadata": {},
   "outputs": [
    {
     "name": "stdout",
     "output_type": "stream",
     "text": [
      "2.2.2\n",
      "0.13.2\n",
      "1.26.4\n",
      "3.9.2\n"
     ]
    }
   ],
   "source": [
    "import pandas\n",
    "import seaborn\n",
    "import numpy\n",
    "import matplotlib\n",
    "\n",
    "\n",
    "print(\n",
    "pandas.__version__\n",
    ",seaborn.__version__\n",
    ",numpy.__version__\n",
    ",matplotlib.__version__\n",
    ",sep='\\n'\n",
    ")"
   ]
  }
 ],
 "metadata": {
  "kernelspec": {
   "display_name": "Python [conda env:base] *",
   "language": "python",
   "name": "conda-base-py"
  },
  "language_info": {
   "codemirror_mode": {
    "name": "ipython",
    "version": 3
   },
   "file_extension": ".py",
   "mimetype": "text/x-python",
   "name": "python",
   "nbconvert_exporter": "python",
   "pygments_lexer": "ipython3",
   "version": "3.12.7"
  }
 },
 "nbformat": 4,
 "nbformat_minor": 5
}
