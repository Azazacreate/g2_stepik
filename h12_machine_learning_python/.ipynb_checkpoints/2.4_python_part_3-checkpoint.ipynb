{
 "cells": [
  {
   "cell_type": "code",
   "execution_count": 14,
   "id": "9bc5c7b9-28de-4cbd-a181-4b19351bb691",
   "metadata": {},
   "outputs": [
    {
     "name": "stdout",
     "output_type": "stream",
     "text": [
      "Hi, Vlad\n"
     ]
    }
   ],
   "source": [
    "def func1(name='Ivan'):\n",
    "    print('Hi, ' + name)\n",
    "func1('Vlad')"
   ]
  },
  {
   "cell_type": "code",
   "execution_count": 15,
   "id": "e7496880-724d-4fe5-ba45-42ddcb51f42e",
   "metadata": {},
   "outputs": [
    {
     "data": {
      "text/plain": [
       "4"
      ]
     },
     "execution_count": 15,
     "metadata": {},
     "output_type": "execute_result"
    }
   ],
   "source": [
    "# как функция возвращает значения?\n",
    "def func2(x):\n",
    "    return x ** 2\n",
    "func2(2)"
   ]
  },
  {
   "cell_type": "code",
   "execution_count": 16,
   "id": "de70f456-1a34-4a3b-a81b-433ebc0d78c3",
   "metadata": {},
   "outputs": [
    {
     "name": "stdout",
     "output_type": "stream",
     "text": [
      "9\n"
     ]
    }
   ],
   "source": [
    "result = func2(3)\n",
    "print(result)"
   ]
  },
  {
   "cell_type": "code",
   "execution_count": 20,
   "id": "bd8eab1f-f7ed-4850-a854-99bca815ad9e",
   "metadata": {},
   "outputs": [
    {
     "data": {
      "text/plain": [
       "20"
      ]
     },
     "execution_count": 20,
     "metadata": {},
     "output_type": "execute_result"
    }
   ],
   "source": [
    "# выражение-лямбда = функция:анонимная\n",
    "def func3(var):\n",
    "    return var * 2\n",
    "func3(10)"
   ]
  },
  {
   "cell_type": "code",
   "execution_count": 22,
   "id": "00dcd62a-863b-4e07-917f-c1611f172565",
   "metadata": {},
   "outputs": [
    {
     "data": {
      "text/plain": [
       "<function __main__.<lambda>(var)>"
      ]
     },
     "execution_count": 22,
     "metadata": {},
     "output_type": "execute_result"
    }
   ],
   "source": [
    "lambda var: var * 2"
   ]
  },
  {
   "cell_type": "code",
   "execution_count": null,
   "id": "6a997069-4296-498a-a78e-8676aa269238",
   "metadata": {},
   "outputs": [],
   "source": [
    "st = 'это строка'\n",
    "st.lower()\n",
    "st.upper()\n",
    "st.split()"
   ]
  },
  {
   "cell_type": "code",
   "execution_count": null,
   "id": "ffb1e233-c227-4111-9bcd-73ad4b7d27e5",
   "metadata": {},
   "outputs": [],
   "source": [
    "d = {\n",
    "    'k1': 'v1',\n",
    "    'k2': 'v2'\n",
    "}\n",
    "d.keys()\n",
    "d.items()"
   ]
  },
  {
   "cell_type": "code",
   "execution_count": null,
   "id": "f93310ab-ea2d-4fda-93b5-069df90181a5",
   "metadata": {},
   "outputs": [],
   "source": [
    "list1 = [1, 2, 3]\n",
    "list1.pop()\n",
    "list1.pop(0)"
   ]
  }
 ],
 "metadata": {
  "kernelspec": {
   "display_name": "Python [conda env:base] *",
   "language": "python",
   "name": "conda-base-py"
  },
  "language_info": {
   "codemirror_mode": {
    "name": "ipython",
    "version": 3
   },
   "file_extension": ".py",
   "mimetype": "text/x-python",
   "name": "python",
   "nbconvert_exporter": "python",
   "pygments_lexer": "ipython3",
   "version": "3.12.7"
  }
 },
 "nbformat": 4,
 "nbformat_minor": 5
}
