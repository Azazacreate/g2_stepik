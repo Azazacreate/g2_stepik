{
 "cells": [
  {
   "cell_type": "code",
   "execution_count": 18,
   "id": "602f49d0-5894-4c43-a884-2645241f18b8",
   "metadata": {},
   "outputs": [
    {
     "name": "stdout",
     "output_type": "stream",
     "text": [
      "[ 0  1  2  3  4  5  6  7  8  9 10]\n",
      "0\n",
      "[0 1 2 3 4]\n"
     ]
    },
    {
     "data": {
      "text/plain": [
       "array([ 0,  1,  2,  3,  4,  5,  6,  7,  8,  9, 10])"
      ]
     },
     "execution_count": 18,
     "metadata": {},
     "output_type": "execute_result"
    }
   ],
   "source": [
    "import numpy as np\n",
    "\n",
    "array_1 = np.arange(0, 11)\n",
    "print(\n",
    "    array_1\n",
    "    ,array_1[0]\n",
    "    ,array_1[:5]\n",
    "    ,sep='\\n'\n",
    ")"
   ]
  },
  {
   "cell_type": "code",
   "execution_count": 22,
   "id": "1257d55a-3ddf-4cc8-b443-9f5543db9b2b",
   "metadata": {},
   "outputs": [
    {
     "data": {
      "text/plain": [
       "array([  0,   1,   2, 666, 666, 666,   6,   7,   8,   9,  10])"
      ]
     },
     "execution_count": 22,
     "metadata": {},
     "output_type": "execute_result"
    }
   ],
   "source": [
    "# array-numpy отличается от-списка - наличием broadcast\n",
    "# broadcast = присвоить многим-элементам\n",
    "array_1[3:6] = 666\n",
    "array_1"
   ]
  },
  {
   "cell_type": "code",
   "execution_count": 24,
   "id": "2f37e4a9-58a4-4f2d-b6b5-600698297d3b",
   "metadata": {},
   "outputs": [
    {
     "data": {
      "text/plain": [
       "array([0, 1, 2, 3, 4])"
      ]
     },
     "execution_count": 24,
     "metadata": {},
     "output_type": "execute_result"
    }
   ],
   "source": [
    "array_1 = np.arange(0, 11)\n",
    "# если взять срез_массива и записать в-переменную -> вы получите ссылку на-элементы_массива-1\n",
    "slice_array_1 = array_1[0:5]\n",
    "slice_array_1"
   ]
  },
  {
   "cell_type": "code",
   "execution_count": 30,
   "id": "73330e59-a769-44a6-bec8-8b25d4c44da1",
   "metadata": {},
   "outputs": [
    {
     "name": "stdout",
     "output_type": "stream",
     "text": [
      "[99 99 99 99 99]\n",
      "[99 99 99 99 99  5  6  7  8  9 10]\n"
     ]
    }
   ],
   "source": [
    "slice_array_1[:] = 99\n",
    "print(\n",
    "    slice_array_1\n",
    "    ,array_1\n",
    "    ,sep='\\n'\n",
    ")"
   ]
  },
  {
   "cell_type": "code",
   "execution_count": 36,
   "id": "28fb04d8-6cf6-472b-b2d6-c8792de744aa",
   "metadata": {},
   "outputs": [
    {
     "name": "stdout",
     "output_type": "stream",
     "text": [
      "[100 100 100 100 100 100 100 100 100 100 100]\n",
      "[99 99 99 99 99  5  6  7  8  9 10]\n"
     ]
    }
   ],
   "source": [
    "# если вы не-хотите , чтобы при-изменении массива-1 -> менялся массив-2\n",
    "# -> сделайте копию_массива\n",
    "copy_array_2 = array_1.copy()\n",
    "copy_array_2[:] = 100\n",
    "\n",
    "print(\n",
    "    copy_array_2\n",
    "    ,array_1\n",
    "    ,sep='\\n'\n",
    ")"
   ]
  },
  {
   "cell_type": "code",
   "execution_count": 64,
   "id": "ef12c953-fb9a-4712-89f9-24c7235e6e59",
   "metadata": {},
   "outputs": [
    {
     "name": "stdout",
     "output_type": "stream",
     "text": [
      "[[   5   10   15]\n",
      " [  50  100  150]\n",
      " [ 500 1000 1500]]\n",
      "\n",
      "(3, 3)\n",
      "\n",
      "[ 5 10 15]\n",
      "\n",
      "10\n",
      "\n",
      "[[ 10  15]\n",
      " [100 150]]\n"
     ]
    }
   ],
   "source": [
    "# матрица = массив:2d-мерный\n",
    "array_2d = np.array([\n",
    "    [5, 10, 15], \n",
    "    [50, 100, 150], \n",
    "    [500, 1000, 1500]])\n",
    "print(\n",
    "    array_2d\n",
    "    ,array_2d.shape\n",
    "    ,array_2d[0]        # получить только-строку-1\n",
    "    ,array_2d[0][1]\n",
    "    ,array_2d[:2, 1:]   # получить строки-1,2 и столбы-2,3\n",
    "    ,sep='\\n\\n'\n",
    ")"
   ]
  },
  {
   "cell_type": "code",
   "execution_count": 72,
   "id": "1d97d9ba-4508-42b4-a18a-5b89d3250fbb",
   "metadata": {},
   "outputs": [
    {
     "name": "stdout",
     "output_type": "stream",
     "text": [
      "[ 1  2  3  4  5  6  7  8  9 10]\n",
      "[False False False False  True  True  True  True  True  True]\n",
      "[ 5  6  7  8  9 10]\n"
     ]
    }
   ],
   "source": [
    "# 1.3[ выбор по-условию = selection:conditional\n",
    "array_2 = np.arange(1, 11)\n",
    "\n",
    "print(\n",
    "    array_2\n",
    "    ,array_2 > 4             # broadcast\n",
    "    ,array_2[array_2 > 4]    # фильтрация по-условию\n",
    "    ,sep='\\n'\n",
    ")"
   ]
  }
 ],
 "metadata": {
  "kernelspec": {
   "display_name": "Python [conda env:base] *",
   "language": "python",
   "name": "conda-base-py"
  },
  "language_info": {
   "codemirror_mode": {
    "name": "ipython",
    "version": 3
   },
   "file_extension": ".py",
   "mimetype": "text/x-python",
   "name": "python",
   "nbconvert_exporter": "python",
   "pygments_lexer": "ipython3",
   "version": "3.12.7"
  }
 },
 "nbformat": 4,
 "nbformat_minor": 5
}
