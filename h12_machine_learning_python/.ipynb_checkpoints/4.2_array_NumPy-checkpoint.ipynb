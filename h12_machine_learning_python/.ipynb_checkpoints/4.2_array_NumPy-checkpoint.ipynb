{
 "cells": [
  {
   "cell_type": "code",
   "execution_count": 4,
   "id": "f1ddd76d-8214-48ab-892b-48b69dade6fc",
   "metadata": {},
   "outputs": [
    {
     "data": {
      "text/plain": [
       "array([1, 2, 3])"
      ]
     },
     "execution_count": 4,
     "metadata": {},
     "output_type": "execute_result"
    }
   ],
   "source": [
    "import numpy as np\n",
    "array_1 = np.array([1, 2, 3])\n",
    "array_1    # 1d"
   ]
  },
  {
   "cell_type": "code",
   "execution_count": 8,
   "id": "ed60698d-ba73-492a-98a6-e63c186430e5",
   "metadata": {},
   "outputs": [
    {
     "data": {
      "text/plain": [
       "array([[1, 2, 3],\n",
       "       [4, 5, 6],\n",
       "       [7, 8, 9]])"
      ]
     },
     "execution_count": 8,
     "metadata": {},
     "output_type": "execute_result"
    }
   ],
   "source": [
    "matrix_1 = np.array([\n",
    "    [1, 2, 3],\n",
    "    [4, 5, 6],\n",
    "    [7, 8, 9]\n",
    "])\n",
    "matrix_1    # 2d"
   ]
  },
  {
   "cell_type": "code",
   "execution_count": 10,
   "id": "a937c58b-170f-492f-a55d-f00d8fceebdf",
   "metadata": {},
   "outputs": [
    {
     "data": {
      "text/plain": [
       "array([1, 2, 3, 4, 5, 6, 7, 8, 9])"
      ]
     },
     "execution_count": 10,
     "metadata": {},
     "output_type": "execute_result"
    }
   ],
   "source": [
    "# создать , используя функции:встроенные\n",
    "array_2 = np.arange(1, 10)\n",
    "array_2"
   ]
  },
  {
   "cell_type": "code",
   "execution_count": 12,
   "id": "11d6ea4a-ed87-44bb-be48-e6a197f39063",
   "metadata": {},
   "outputs": [
    {
     "data": {
      "text/plain": [
       "array([0., 0., 0., 0., 0.])"
      ]
     },
     "execution_count": 12,
     "metadata": {},
     "output_type": "execute_result"
    }
   ],
   "source": [
    "np.zeros(5)    # 1d"
   ]
  },
  {
   "cell_type": "code",
   "execution_count": 14,
   "id": "bdb306a0-4cd5-4084-902b-e06705d2f935",
   "metadata": {},
   "outputs": [
    {
     "data": {
      "text/plain": [
       "array([[0., 0., 0., 0., 0.],\n",
       "       [0., 0., 0., 0., 0.],\n",
       "       [0., 0., 0., 0., 0.],\n",
       "       [0., 0., 0., 0., 0.],\n",
       "       [0., 0., 0., 0., 0.]])"
      ]
     },
     "execution_count": 14,
     "metadata": {},
     "output_type": "execute_result"
    }
   ],
   "source": [
    "np.zeros((5, 5))    # 2d"
   ]
  },
  {
   "cell_type": "code",
   "execution_count": 20,
   "id": "d7297edf-8afb-45d1-80f2-7573c90d0a74",
   "metadata": {},
   "outputs": [
    {
     "data": {
      "text/plain": [
       "array([[[1., 1., 1., 1., 1.],\n",
       "        [1., 1., 1., 1., 1.],\n",
       "        [1., 1., 1., 1., 1.],\n",
       "        [1., 1., 1., 1., 1.],\n",
       "        [1., 1., 1., 1., 1.]],\n",
       "\n",
       "       [[1., 1., 1., 1., 1.],\n",
       "        [1., 1., 1., 1., 1.],\n",
       "        [1., 1., 1., 1., 1.],\n",
       "        [1., 1., 1., 1., 1.],\n",
       "        [1., 1., 1., 1., 1.]],\n",
       "\n",
       "       [[1., 1., 1., 1., 1.],\n",
       "        [1., 1., 1., 1., 1.],\n",
       "        [1., 1., 1., 1., 1.],\n",
       "        [1., 1., 1., 1., 1.],\n",
       "        [1., 1., 1., 1., 1.]],\n",
       "\n",
       "       [[1., 1., 1., 1., 1.],\n",
       "        [1., 1., 1., 1., 1.],\n",
       "        [1., 1., 1., 1., 1.],\n",
       "        [1., 1., 1., 1., 1.],\n",
       "        [1., 1., 1., 1., 1.]],\n",
       "\n",
       "       [[1., 1., 1., 1., 1.],\n",
       "        [1., 1., 1., 1., 1.],\n",
       "        [1., 1., 1., 1., 1.],\n",
       "        [1., 1., 1., 1., 1.],\n",
       "        [1., 1., 1., 1., 1.]]])"
      ]
     },
     "execution_count": 20,
     "metadata": {},
     "output_type": "execute_result"
    }
   ],
   "source": [
    "np.ones((5, 5, 5))    # 3d"
   ]
  },
  {
   "cell_type": "code",
   "execution_count": 36,
   "id": "b87622e1-7c30-49e3-844b-6bc813f6531c",
   "metadata": {},
   "outputs": [
    {
     "data": {
      "text/plain": [
       "array([ 0.,  1.,  2.,  3.,  4.,  5.,  6.,  7.,  8.,  9., 10.])"
      ]
     },
     "execution_count": 36,
     "metadata": {},
     "output_type": "execute_result"
    }
   ],
   "source": [
    "np.linspace(0, 10, 11)   # вернуть набор-чисел, которые удалены:равномерно дод."
   ]
  },
  {
   "cell_type": "code",
   "execution_count": 42,
   "id": "176f8ec7-7a29-46be-8520-f12eda836db7",
   "metadata": {},
   "outputs": [
    {
     "data": {
      "text/plain": [
       "array([[1., 0., 0., 0., 0.],\n",
       "       [0., 1., 0., 0., 0.],\n",
       "       [0., 0., 1., 0., 0.],\n",
       "       [0., 0., 0., 1., 0.],\n",
       "       [0., 0., 0., 0., 1.]])"
      ]
     },
     "execution_count": 42,
     "metadata": {},
     "output_type": "execute_result"
    }
   ],
   "source": [
    "np.eye(5)    # как создать матрицу:единичную , где единицы находятся на-диагонали:главной"
   ]
  },
  {
   "cell_type": "code",
   "execution_count": 58,
   "id": "22c8065f-bd4e-403f-a420-341a8e5da274",
   "metadata": {},
   "outputs": [
    {
     "data": {
      "text/plain": [
       "array([[0.29901334, 0.79521039, 0.92996485, 0.86206489],\n",
       "       [0.84604513, 0.3473652 , 0.43596871, 0.91512726],\n",
       "       [0.27830856, 0.00557064, 0.9790923 , 0.71716067]])"
      ]
     },
     "execution_count": 58,
     "metadata": {},
     "output_type": "execute_result"
    }
   ],
   "source": [
    "# как распределить:случайно,равномерно числа ?\n",
    "np.random.rand(3, 4)"
   ]
  },
  {
   "cell_type": "code",
   "execution_count": 64,
   "id": "3dde35ac-17f2-45e5-a6b5-f116114e9b7f",
   "metadata": {},
   "outputs": [
    {
     "data": {
      "text/plain": [
       "array([[-0.23630244, -1.26122818,  0.12447708, -0.04019274, -1.33151944],\n",
       "       [-1.0221887 ,  0.41413679, -1.00906335,  1.73852838, -0.28921691],\n",
       "       [ 0.77696179, -0.84415578, -1.09497622,  0.07714112, -1.46414401],\n",
       "       [ 0.55572258,  0.71274464, -0.91542662,  1.74845299, -0.32067364]])"
      ]
     },
     "execution_count": 64,
     "metadata": {},
     "output_type": "execute_result"
    }
   ],
   "source": [
    "# распределить:нормально = распределение_Гаусса\n",
    "# распределение:нормальное,стандартное\n",
    "# , где мат.ожидание = 0, дисперсия = 1\n",
    "# т.е чем ближе число-n к-0, тем больше вероятность получить число-n\n",
    "np.random.randn(4, 5)"
   ]
  },
  {
   "cell_type": "code",
   "execution_count": 118,
   "id": "9aed2604-4fa9-43d8-9e4d-182e478d1c04",
   "metadata": {},
   "outputs": [
    {
     "data": {
      "text/plain": [
       "6"
      ]
     },
     "execution_count": 118,
     "metadata": {},
     "output_type": "execute_result"
    }
   ],
   "source": [
    "np.random.randint(1, 10)    # дать числоЦелое от-a до-b"
   ]
  },
  {
   "cell_type": "code",
   "execution_count": 122,
   "id": "6d572ddd-f186-4534-8efa-2e55c27b3ce8",
   "metadata": {},
   "outputs": [
    {
     "data": {
      "text/plain": [
       "array([ 42,  45,  93, 100,   3])"
      ]
     },
     "execution_count": 122,
     "metadata": {},
     "output_type": "execute_result"
    }
   ],
   "source": [
    "np.random.randint(0, 101, 5)    # дать 5-чисел от-0 до-100"
   ]
  },
  {
   "cell_type": "code",
   "execution_count": 124,
   "id": "8190323b-e7a5-44ca-981b-7d952161cf0c",
   "metadata": {},
   "outputs": [
    {
     "data": {
      "text/plain": [
       "array([[25, 14, 85, 97, 96, 50],\n",
       "       [33, 17,  2, 86, 24, 22],\n",
       "       [12, 95, 34, 23, 52, 44]])"
      ]
     },
     "execution_count": 124,
     "metadata": {},
     "output_type": "execute_result"
    }
   ],
   "source": [
    "np.random.randint(0, 101, (3,6))"
   ]
  },
  {
   "cell_type": "code",
   "execution_count": 132,
   "id": "d98bac06-121a-47cb-becd-f592ee20650d",
   "metadata": {},
   "outputs": [
    {
     "data": {
      "text/plain": [
       "array([0.37454012, 0.95071431, 0.73199394, 0.59865848])"
      ]
     },
     "execution_count": 132,
     "metadata": {},
     "output_type": "execute_result"
    }
   ],
   "source": [
    "# как вернуть результат:случайный,воспроизводимый ?\n",
    "# seed = состояниеНачальное_генератора_чиселСлучайных\n",
    "np.random.seed(42)\n",
    "np.random.rand(4)"
   ]
  },
  {
   "cell_type": "markdown",
   "id": "226ce7d1-fbc4-4dd2-9a05-3b4d03e91382",
   "metadata": {},
   "source": [
    "Вы получили числа:такиеже как-у-Влада"
   ]
  },
  {
   "cell_type": "code",
   "execution_count": 142,
   "id": "90ae5d46-6681-4004-af7c-ed231bd0face",
   "metadata": {},
   "outputs": [
    {
     "data": {
      "text/plain": [
       "array([ 0,  1,  2,  3,  4,  5,  6,  7,  8,  9, 10, 11, 12, 13, 14, 15, 16,\n",
       "       17, 18, 19, 20, 21, 22, 23, 24])"
      ]
     },
     "execution_count": 142,
     "metadata": {},
     "output_type": "execute_result"
    }
   ],
   "source": [
    "# функции_numpy\n",
    "array_3 = np.arange(0, 25)\n",
    "array_3"
   ]
  },
  {
   "cell_type": "code",
   "execution_count": 144,
   "id": "25d0ce4f-288d-4e3a-a16d-6c3d3e20b371",
   "metadata": {},
   "outputs": [
    {
     "data": {
      "text/plain": [
       "array([[ 0,  1,  2,  3,  4],\n",
       "       [ 5,  6,  7,  8,  9],\n",
       "       [10, 11, 12, 13, 14],\n",
       "       [15, 16, 17, 18, 19],\n",
       "       [20, 21, 22, 23, 24]])"
      ]
     },
     "execution_count": 144,
     "metadata": {},
     "output_type": "execute_result"
    }
   ],
   "source": [
    "array_3.reshape(5, 5)"
   ]
  },
  {
   "cell_type": "markdown",
   "id": "a28cb699-304b-4246-bf38-504ffde1e8b4",
   "metadata": {},
   "source": [
    "# количество-чисел должны-умешаться:полностью в-массиве"
   ]
  },
  {
   "cell_type": "code",
   "execution_count": 166,
   "id": "b3b1a7c9-98c8-49aa-8b97-962318b89770",
   "metadata": {},
   "outputs": [
    {
     "name": "stdout",
     "output_type": "stream",
     "text": [
      "[ 34  64  98 100  46  77   2   0   4  89  13  26   8  78  14  89  41  76\n",
      "  50  62  95  51  95   3  93]\n",
      "100\n",
      "0\n",
      "3\n",
      "7\n",
      "int64\n",
      "(25,)\n",
      "[[ 34  64  98 100  46]\n",
      " [ 77   2   0   4  89]\n",
      " [ 13  26   8  78  14]\n",
      " [ 89  41  76  50  62]\n",
      " [ 95  51  95   3  93]]\n"
     ]
    }
   ],
   "source": [
    "arrayRandom_4 = np.random.randint(0, 101, 25)\n",
    "\n",
    "print(\n",
    "    arrayRandom_4\n",
    "    ,arrayRandom_4.max()\n",
    "    ,arrayRandom_4.min()\n",
    "    ,arrayRandom_4.argmax()      # получить индекс_числаМакс\n",
    "    ,arrayRandom_4.argmin()      # получить индекс_числаМин\n",
    "    ,arrayRandom_4.dtype         # узнать тип_данных в-массиве\n",
    "    ,arrayRandom_4.shape         # узнать форму_массива\n",
    "    ,arrayRandom_4.reshape(5,5)  # изменить форму_массива\n",
    "    ,sep='\\n'\n",
    ")"
   ]
  },
  {
   "cell_type": "code",
   "execution_count": 184,
   "id": "72e7243c-66be-4599-91b8-623702c4c852",
   "metadata": {},
   "outputs": [
    {
     "data": {
      "text/plain": [
       "array([[[[0., 0., 0., 0., 0.],\n",
       "         [0., 0., 0., 0., 0.],\n",
       "         [0., 0., 0., 0., 0.],\n",
       "         [0., 0., 0., 0., 0.]],\n",
       "\n",
       "        [[0., 0., 0., 0., 0.],\n",
       "         [0., 0., 0., 0., 0.],\n",
       "         [0., 0., 0., 0., 0.],\n",
       "         [0., 0., 0., 0., 0.]],\n",
       "\n",
       "        [[0., 0., 0., 0., 0.],\n",
       "         [0., 0., 0., 0., 0.],\n",
       "         [0., 0., 0., 0., 0.],\n",
       "         [0., 0., 0., 0., 0.]]],\n",
       "\n",
       "\n",
       "       [[[0., 0., 0., 0., 0.],\n",
       "         [0., 0., 0., 0., 0.],\n",
       "         [0., 0., 0., 0., 0.],\n",
       "         [0., 0., 0., 0., 0.]],\n",
       "\n",
       "        [[0., 0., 0., 0., 0.],\n",
       "         [0., 0., 0., 0., 0.],\n",
       "         [0., 0., 0., 0., 0.],\n",
       "         [0., 0., 0., 0., 0.]],\n",
       "\n",
       "        [[0., 0., 0., 0., 0.],\n",
       "         [0., 0., 0., 0., 0.],\n",
       "         [0., 0., 0., 0., 0.],\n",
       "         [0., 0., 0., 0., 0.]]]])"
      ]
     },
     "execution_count": 184,
     "metadata": {},
     "output_type": "execute_result"
    }
   ],
   "source": [
    "# 4d\n",
    "np.zeros((2,3,4,5))    # 2-мега-строки, 3-мега-столбца, 4-строки, 5-столбцов."
   ]
  }
 ],
 "metadata": {
  "kernelspec": {
   "display_name": "Python [conda env:base] *",
   "language": "python",
   "name": "conda-base-py"
  },
  "language_info": {
   "codemirror_mode": {
    "name": "ipython",
    "version": 3
   },
   "file_extension": ".py",
   "mimetype": "text/x-python",
   "name": "python",
   "nbconvert_exporter": "python",
   "pygments_lexer": "ipython3",
   "version": "3.12.7"
  }
 },
 "nbformat": 4,
 "nbformat_minor": 5
}
