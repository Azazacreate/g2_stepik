{
 "cells": [
  {
   "cell_type": "code",
   "execution_count": 34,
   "id": "9ddd54d4-8d2c-4f80-bb1c-90ab3a53e7b2",
   "metadata": {},
   "outputs": [
    {
     "name": "stdout",
     "output_type": "stream",
     "text": [
      "[0 1 2 3 4 5 6 7 8 9]\n",
      "[ 5  6  7  8  9 10 11 12 13 14]\n",
      "[ 0  2  4  6  8 10 12 14 16 18]\n",
      "[nan  1.  1.  1.  1.  1.  1.  1.  1.  1.]\n",
      "[nan inf inf inf inf inf inf inf inf inf]\n"
     ]
    },
    {
     "name": "stderr",
     "output_type": "stream",
     "text": [
      "/var/folders/w6/p8ygz9l94mv7vcgrts0tz9b00000gn/T/ipykernel_5258/1782831427.py:8: RuntimeWarning: invalid value encountered in divide\n",
      "  , array_1 / array_1    # nan = not-a-number\n",
      "/var/folders/w6/p8ygz9l94mv7vcgrts0tz9b00000gn/T/ipykernel_5258/1782831427.py:9: RuntimeWarning: divide by zero encountered in divide\n",
      "  , array_1 / 0          # inf = infinity = бесконечность\n",
      "/var/folders/w6/p8ygz9l94mv7vcgrts0tz9b00000gn/T/ipykernel_5258/1782831427.py:9: RuntimeWarning: invalid value encountered in divide\n",
      "  , array_1 / 0          # inf = infinity = бесконечность\n"
     ]
    }
   ],
   "source": [
    "import numpy as np\n",
    "\n",
    "array_1 = np.arange(0, 10)\n",
    "print(\n",
    "    array_1\n",
    "    , array_1 + 5\n",
    "    , array_1 + array_1    # 2-массива должны-иметь размерОдинаковый\n",
    "    , array_1 / array_1    # nan = not-a-number\n",
    "    , array_1 / 0          # inf = infinity = бесконечность\n",
    "    ,sep='\\n'\n",
    ")"
   ]
  },
  {
   "cell_type": "code",
   "execution_count": 40,
   "id": "3f9b3c78-2358-41e9-b412-8a2fbcbe0fdd",
   "metadata": {},
   "outputs": [
    {
     "name": "stdout",
     "output_type": "stream",
     "text": [
      "[1.         1.41421356 1.73205081 2.         2.23606798 2.44948974\n",
      " 2.64575131 2.82842712 3.         3.16227766]\n",
      "[1.         1.41421356 1.73205081 2.         2.23606798 2.44948974\n",
      " 2.64575131 2.82842712 3.         3.16227766]\n",
      "[ 0.84147098  0.90929743  0.14112001 -0.7568025  -0.95892427 -0.2794155\n",
      "  0.6569866   0.98935825  0.41211849 -0.54402111]\n",
      "[0.         0.69314718 1.09861229 1.38629436 1.60943791 1.79175947\n",
      " 1.94591015 2.07944154 2.19722458 2.30258509]\n",
      "[ 1  2  3  4  5  6  7  8  9 10]\n"
     ]
    }
   ],
   "source": [
    "# функцииУниверсальные\n",
    "array_2 = np.arange(1, 11)\n",
    "print(\n",
    "    np.sqrt(array_2)\n",
    "    ,np.sqrt(array_2)\n",
    "    ,np.sin(array_2)\n",
    "    ,np.log(array_2)\n",
    "    ,array_2\n",
    "    ,sep='\\n'\n",
    ")"
   ]
  },
  {
   "cell_type": "code",
   "execution_count": 54,
   "id": "a5b6c8ce-7ff1-4a4e-9f42-8eafc37f436f",
   "metadata": {},
   "outputs": [
    {
     "name": "stdout",
     "output_type": "stream",
     "text": [
      "[ 1  2  3  4  5  6  7  8  9 10]\n",
      "55\n",
      "5.5\n",
      "10\n",
      "1\n",
      "8.25\n",
      "2.8722813232690143\n"
     ]
    }
   ],
   "source": [
    "print(\n",
    "    array_2\n",
    "    ,array_2.sum()\n",
    "    ,array_2.mean()    # значение:среднее\n",
    "    ,array_2.max()\n",
    "    ,array_2.min()\n",
    "    ,array_2.var()    # дисперсия\n",
    "    ,array_2.std()    # отклонение:средне-квадратичное\n",
    "    ,sep='\\n'\n",
    ")"
   ]
  },
  {
   "cell_type": "code",
   "execution_count": 60,
   "id": "e24adfbd-c3f0-4fdb-9a91-c8aed5e04a3d",
   "metadata": {},
   "outputs": [
    {
     "name": "stdout",
     "output_type": "stream",
     "text": [
      "[ 0  1  2  3  4  5  6  7  8  9 10 11 12 13 14 15 16 17 18 19 20 21 22 23\n",
      " 24]\n",
      "\n",
      "[[ 0  1  2  3  4]\n",
      " [ 5  6  7  8  9]\n",
      " [10 11 12 13 14]\n",
      " [15 16 17 18 19]\n",
      " [20 21 22 23 24]]\n"
     ]
    }
   ],
   "source": [
    "# вычислять:по-осям,измерениям\n",
    "print(\n",
    "    np.arange(0, 25)\n",
    "    ,np.arange(0, 25).reshape(5,5)\n",
    "    ,sep='\\n\\n'\n",
    ")"
   ]
  },
  {
   "cell_type": "code",
   "execution_count": 74,
   "id": "42fa9932-3433-4cbd-bc80-4173a4daa103",
   "metadata": {},
   "outputs": [
    {
     "name": "stdout",
     "output_type": "stream",
     "text": [
      "300\n",
      "[ 10  35  60  85 110]\n",
      "[50 55 60 65 70]\n"
     ]
    }
   ],
   "source": [
    "array_2d = np.arange(0, 25).reshape(5,5)\n",
    "\n",
    "print(\n",
    "    array_2d.sum()        # sum всех-строк и всех-колонок\n",
    "    ,array_2d.sum(axis=1) # sum только-всех-строк\n",
    "    ,array_2d.sum(axis=0) # sum только-всех-колонок\n",
    "    ,sep='\\n'\n",
    ")"
   ]
  }
 ],
 "metadata": {
  "kernelspec": {
   "display_name": "Python [conda env:base] *",
   "language": "python",
   "name": "conda-base-py"
  },
  "language_info": {
   "codemirror_mode": {
    "name": "ipython",
    "version": 3
   },
   "file_extension": ".py",
   "mimetype": "text/x-python",
   "name": "python",
   "nbconvert_exporter": "python",
   "pygments_lexer": "ipython3",
   "version": "3.12.7"
  }
 },
 "nbformat": 4,
 "nbformat_minor": 5
}
