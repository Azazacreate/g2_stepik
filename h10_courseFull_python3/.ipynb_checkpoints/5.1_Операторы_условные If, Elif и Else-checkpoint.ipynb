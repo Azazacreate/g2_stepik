{
 "cells": [
  {
   "cell_type": "markdown",
   "id": "b56b2e6e-f6ca-430d-8b56-4d835e34c65a",
   "metadata": {},
   "source": [
    "## 5.1_Операторы:условные If, Elif и Else"
   ]
  },
  {
   "cell_type": "code",
   "execution_count": 3,
   "id": "b6a59436-0ce9-40f0-990e-761c6e747d46",
   "metadata": {},
   "outputs": [
    {
     "name": "stdout",
     "output_type": "stream",
     "text": [
      "is True!\n"
     ]
    }
   ],
   "source": [
    "if True:\n",
    "    print(\"is True!\")"
   ]
  },
  {
   "cell_type": "code",
   "execution_count": 5,
   "id": "6119ec8e-b84b-4eed-a193-4459d58ba49b",
   "metadata": {},
   "outputs": [
    {
     "name": "stdout",
     "output_type": "stream",
     "text": [
      "True\n"
     ]
    }
   ],
   "source": [
    "if 3 > 2:\n",
    "    print(True)"
   ]
  },
  {
   "cell_type": "code",
   "execution_count": 7,
   "id": "152b2699-7d49-44a4-99a8-cd011dfbdf1b",
   "metadata": {},
   "outputs": [
    {
     "name": "stdout",
     "output_type": "stream",
     "text": [
      "give food cat\n"
     ]
    }
   ],
   "source": [
    "hungry = True\n",
    "if hungry:\n",
    "    print(\"give food cat\")"
   ]
  },
  {
   "cell_type": "code",
   "execution_count": 9,
   "id": "9d7fb6f9-b027-46ec-9d36-b26b7161b900",
   "metadata": {},
   "outputs": [
    {
     "name": "stdout",
     "output_type": "stream",
     "text": [
      "cat isn't hungry. \n"
     ]
    }
   ],
   "source": [
    "hungry = False\n",
    "if hungry:\n",
    "    print(\"give food cat\")\n",
    "else:\n",
    "    print(\"cat isn't hungry. \")"
   ]
  },
  {
   "cell_type": "code",
   "execution_count": null,
   "id": "64cab022-7579-4bfa-8db4-6f72667bb7ae",
   "metadata": {},
   "outputs": [],
   "source": [
    "loc = \"Bank\"\n",
    "if loc == \"shop-auto\":\n",
    "    print(\"you are in-store.\")\n",
    "else:\n",
    "    print(\"We don't know where you are.\")"
   ]
  }
 ],
 "metadata": {
  "kernelspec": {
   "display_name": "Python 3 (ipykernel)",
   "language": "python",
   "name": "python3"
  },
  "language_info": {
   "codemirror_mode": {
    "name": "ipython",
    "version": 3
   },
   "file_extension": ".py",
   "mimetype": "text/x-python",
   "name": "python",
   "nbconvert_exporter": "python",
   "pygments_lexer": "ipython3",
   "version": "3.12.4"
  }
 },
 "nbformat": 4,
 "nbformat_minor": 5
}
