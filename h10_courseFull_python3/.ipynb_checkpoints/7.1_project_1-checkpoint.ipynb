{
 "cells": [
  {
   "cell_type": "code",
   "execution_count": 9,
   "id": "e1b1dc01-f916-4740-a752-3187cf9c3161",
   "metadata": {},
   "outputs": [
    {
     "name": "stdout",
     "output_type": "stream",
     "text": [
      "[[2 2 2]\n",
      " [1 1 0]\n",
      " [1 0 0]]\n",
      "победа игрока-2\n"
     ]
    }
   ],
   "source": [
    "# вариант-1. с-numpy\n",
    "import numpy as np\n",
    "from IPython.display import clear_output\n",
    "\n",
    "df = np.zeros(9, dtype=int)\n",
    "print(df.reshape(3, 3))\n",
    "\n",
    "def check__winner(df):\n",
    "    for a, b, c in [\n",
    "        [0, 1, 2], [3, 4, 5], [6, 7, 8], # строки\n",
    "        [0, 3, 6], [1, 4, 7], [2, 5, 8], # столбцы\n",
    "        [0, 4, 8], [2, 4, 6]             # диагонали\n",
    "    ]:\n",
    "        if df[a] == df[b] == df[c] != 0:\n",
    "            return df[a]  # Возвращаем номер игрока (1 или 2)\n",
    "\n",
    "while 0 in df:\n",
    "    df[int(input('player-1: ')) - 1] += 1\n",
    "    clear_output()\n",
    "    print(df.reshape(3, 3))\n",
    "    \n",
    "    winner = check__winner(df)\n",
    "    if check__winner(df):\n",
    "        print(f'победа игрока-{winner}')\n",
    "        break\n",
    "    if not 0 in df:\n",
    "        print('ничья')\n",
    "        break\n",
    "        \n",
    "    df[int(input('player-2: ')) - 1] += 2\n",
    "    clear_output()\n",
    "    print(df.reshape(3, 3))\n",
    "\n",
    "    winner = check__winner(df)\n",
    "    if check__winner(df):\n",
    "        print(f'победа игрока-{winner}')\n",
    "        break"
   ]
  },
  {
   "cell_type": "code",
   "execution_count": null,
   "id": "669f5bb6-92aa-46a5-9913-bb348e06e0fc",
   "metadata": {},
   "outputs": [
    {
     "name": "stdout",
     "output_type": "stream",
     "text": [
      "[1, 2, 1]\n",
      "[0, 0, 0]\n",
      "[0, 0, 0]\n"
     ]
    },
    {
     "name": "stdin",
     "output_type": "stream",
     "text": [
      "Player 2:  4\n"
     ]
    }
   ],
   "source": [
    "# вариант-2. без-numpy\n",
    "from IPython.display import clear_output\n",
    "\n",
    "df = [0] * 9\n",
    "for i in range(3):\n",
    "    print(df[i*3:(i+1)*3])\n",
    "\n",
    "def check_winner(board):\n",
    "    for a, b, c in [\n",
    "        [0, 1, 2], [3, 4, 5], [6, 7, 8],  # строки\n",
    "        [0, 3, 6], [1, 4, 7], [2, 5, 8],  # столбцы\n",
    "        [0, 4, 8], [2, 4, 6]              # диагонали\n",
    "    ]:\n",
    "        if board[a] == board[b] == board[c] != 0:\n",
    "            return board[a]  # Возвращаем номер игрока (1 или 2)\n",
    "\n",
    "while 0 in df:\n",
    "    # Ход первого игрока\n",
    "    move = int(input('Player 1: ')) - 1\n",
    "    if df[move] == 0:\n",
    "        df[move] = 1\n",
    "    else:\n",
    "        print(\"Invalid move, try again.\")\n",
    "        continue\n",
    "    clear_output()\n",
    "    for i in range(3):\n",
    "        print(df[i*3:(i+1)*3])\n",
    "    \n",
    "    winner = check_winner(df)\n",
    "    if winner:\n",
    "        print(f'Player {winner} wins!')\n",
    "        break\n",
    "    if not 0 in df:\n",
    "        print('It\\'s a draw!')\n",
    "        break\n",
    "\n",
    "    # Ход второго игрока\n",
    "    move = int(input('Player 2: ')) - 1\n",
    "    if df[move] == 0:\n",
    "        df[move] = 2\n",
    "    else:\n",
    "        print(\"Invalid move, try again.\")\n",
    "        continue\n",
    "    clear_output()\n",
    "    for i in range(3):\n",
    "        print(df[i*3:(i+1)*3])\n",
    "\n",
    "    winner = check_winner(df)\n",
    "    if winner:\n",
    "        print(f'Player {winner} победил !')\n",
    "        break"
   ]
  },
  {
   "cell_type": "code",
   "execution_count": 5,
   "id": "3a59a29b-87ea-4b70-bac3-7d3a41ef72eb",
   "metadata": {},
   "outputs": [
    {
     "name": "stdout",
     "output_type": "stream",
     "text": [
      "[[1 2 2]\n",
      " [1 0 0]\n",
      " [1 0 0]]\n",
      "победа игрока-1\n"
     ]
    }
   ],
   "source": [
    "# вариант-3. c-numpy + с-проверкой, что ячейкаПустая\n",
    "import numpy as np\n",
    "from IPython.display import clear_output\n",
    "\n",
    "df = np.zeros(9, dtype=int)\n",
    "print(df.reshape(3, 3))\n",
    "\n",
    "def check__winner(df):\n",
    "    for a, b, c in [\n",
    "        [0, 1, 2], [3, 4, 5], [6, 7, 8], # строки\n",
    "        [0, 3, 6], [1, 4, 7], [2, 5, 8], # столбцы\n",
    "        [0, 4, 8], [2, 4, 6]             # диагонали\n",
    "    ]:\n",
    "        if df[a] == df[b] == df[c] != 0:\n",
    "            return df[a]  # Возвращаем номер игрока (1 или 2)\n",
    "\n",
    "while 0 in df:\n",
    "    move = int(input('player-1: ')) - 1\n",
    "    if df[move] == 0:\n",
    "        df[move] = 1\n",
    "    else:\n",
    "        print(\"Invalid move, try again.\")\n",
    "        continue\n",
    "    clear_output()\n",
    "    print(df.reshape(3, 3))\n",
    "    \n",
    "    winner = check__winner(df)\n",
    "    if winner:\n",
    "        print(f'победа игрока-{winner}')\n",
    "        break\n",
    "    if not 0 in df:\n",
    "        print('ничья')\n",
    "        break\n",
    "        \n",
    "    move = int(input('player-2: ')) - 1\n",
    "    if df[move] == 0:\n",
    "        df[move] = 2\n",
    "    else:\n",
    "        print(\"Invalid move, try again.\")\n",
    "        continue\n",
    "    clear_output()\n",
    "    print(df.reshape(3, 3))\n",
    "\n",
    "    winner = check__winner(df)\n",
    "    if winner:\n",
    "        print(f'победа игрока-{winner}')\n",
    "        break"
   ]
  },
  {
   "cell_type": "code",
   "execution_count": 7,
   "id": "c53f9e27-591d-4060-bcf0-76891f664a9b",
   "metadata": {},
   "outputs": [
    {
     "name": "stdout",
     "output_type": "stream",
     "text": [
      "[[1 1 1]\n",
      " [2 2 2]\n",
      " [0 0 0]]\n",
      "победа игрока-1\n"
     ]
    }
   ],
   "source": [
    "# вариант-4. вроде-Идеальный\n",
    "import numpy as np\n",
    "from IPython.display import clear_output\n",
    "\n",
    "df = np.zeros(9, dtype=int)\n",
    "print(df.reshape(3, 3))\n",
    "\n",
    "def check__winner(df):\n",
    "    for a, b, c in [\n",
    "        [0, 1, 2], [3, 4, 5], [6, 7, 8], # строки\n",
    "        [0, 3, 6], [1, 4, 7], [2, 5, 8], # столбцы\n",
    "        [0, 4, 8], [2, 4, 6]             # диагонали\n",
    "    ]:\n",
    "        if df[a] == df[b] == df[c] != 0:\n",
    "            return df[a]  # Возвращаем номер игрока (1 или 2)\n",
    "\n",
    "while 0 in df:\n",
    "    for player in [1, 2]:\n",
    "        move = int(input(f'player-{player}: ')) - 1\n",
    "        if df[move] == 0:\n",
    "            df[move] = player\n",
    "            clear_output()\n",
    "            print(df.reshape(3, 3))\n",
    "        else:\n",
    "            print(\"Invalid move, try again.\")\n",
    "    if (winner := check__winner(df)):\n",
    "        print(f'победа игрока-{winner}')\n",
    "        break"
   ]
  }
 ],
 "metadata": {
  "kernelspec": {
   "display_name": "Python [conda env:base] *",
   "language": "python",
   "name": "conda-base-py"
  },
  "language_info": {
   "codemirror_mode": {
    "name": "ipython",
    "version": 3
   },
   "file_extension": ".py",
   "mimetype": "text/x-python",
   "name": "python",
   "nbconvert_exporter": "python",
   "pygments_lexer": "ipython3",
   "version": "3.12.7"
  }
 },
 "nbformat": 4,
 "nbformat_minor": 5
}
