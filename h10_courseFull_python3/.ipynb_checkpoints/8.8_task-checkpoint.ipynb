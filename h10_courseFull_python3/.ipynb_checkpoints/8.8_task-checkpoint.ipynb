{
 "cells": [
  {
   "cell_type": "markdown",
   "metadata": {},
   "source": [
    "# Объектно-ориентированное программирование - Задание\n",
    "\n",
    "В этом задании создайте класс банковского счёта, который имеет два атрибута:\n",
    "\n",
    "* owner - владелец\n",
    "* balance - баланс\n",
    "\n",
    "и два метода:\n",
    "\n",
    "* deposit - внести средства\n",
    "* withdraw - снять средства\n",
    "\n",
    "Дополнительное условие - сумма снятия не должна превышать доступный баланс.\n",
    "\n",
    "Создайте экземпляр класса, сделайте несколько внесений и снятий средств, а также проверьте, что баланс счёта не может уходить в минус при снятии средств."
   ]
  },
  {
   "cell_type": "code",
   "execution_count": 54,
   "metadata": {},
   "outputs": [
    {
     "name": "stdout",
     "output_type": "stream",
     "text": [
      "Владелец счёта: Влад\n",
      "Баланс счёта: $100\n",
      "Влад\n",
      "100\n",
      "внесли на-счет $50\n",
      "сняли с-счета $50\n",
      "Недостаточно средств в-счете. Баланс = 100\n"
     ]
    }
   ],
   "source": [
    "class Account():\n",
    "    def __init__(self, owner, balance=0):\n",
    "        self.owner = owner\n",
    "        self.balance = balance\n",
    "    def __str__(self):\n",
    "        return f'Владелец счёта: {self.owner}\\nБаланс счёта: ${self.balance}'\n",
    "    def deposit(self, amount):\n",
    "        if amount > 0:\n",
    "            self.balance += amount\n",
    "            return f'внесли на-счет ${amount}'\n",
    "    def withdraw(self, amount):\n",
    "        if 0 < amount <= self.balance:\n",
    "            self.balance -= amount\n",
    "            return f'сняли с-счета ${amount}'\n",
    "        else:\n",
    "            return f'Недостаточно средств в-счете. Баланс = {self.balance}'\n",
    "\n",
    "acct1 = Account('Влад',100)\n",
    "print(\n",
    "    acct1\n",
    "    ,acct1.owner\n",
    "    ,acct1.balance\n",
    "    ,acct1.deposit(50)\n",
    "    ,acct1.withdraw(50)\n",
    "    ,acct1.withdraw(500)\n",
    "    ,sep='\\n'\n",
    ")"
   ]
  },
  {
   "cell_type": "code",
   "execution_count": 4,
   "metadata": {
    "collapsed": true,
    "jupyter": {
     "outputs_hidden": true
    }
   },
   "outputs": [],
   "source": [
    "# 1. Создаём экземпляр класса\n",
    "acct1 = Account('Влад',100)"
   ]
  },
  {
   "cell_type": "code",
   "execution_count": 5,
   "metadata": {},
   "outputs": [
    {
     "name": "stdout",
     "output_type": "stream",
     "text": [
      "Владелец счёта:   Влад\n",
      "Баланс счёта: $100\n"
     ]
    }
   ],
   "source": [
    "# 2. Выводим информацию об объекте\n",
    "print(acct1)"
   ]
  },
  {
   "cell_type": "code",
   "execution_count": 6,
   "metadata": {},
   "outputs": [
    {
     "data": {
      "text/plain": [
       "'Влад'"
      ]
     },
     "execution_count": 6,
     "metadata": {},
     "output_type": "execute_result"
    }
   ],
   "source": [
    "# 3. Отображаем атрибут владелец счёта\n",
    "acct1.owner"
   ]
  },
  {
   "cell_type": "code",
   "execution_count": 7,
   "metadata": {},
   "outputs": [
    {
     "data": {
      "text/plain": [
       "100"
      ]
     },
     "execution_count": 7,
     "metadata": {},
     "output_type": "execute_result"
    }
   ],
   "source": [
    "# 4. Отображаем атрибут баланс счёта\n",
    "acct1.balance"
   ]
  },
  {
   "cell_type": "code",
   "execution_count": 8,
   "metadata": {},
   "outputs": [
    {
     "name": "stdout",
     "output_type": "stream",
     "text": [
      "Внесение выполнено\n"
     ]
    }
   ],
   "source": [
    "# 5. Выполняем несколько внесений и снятий средств\n",
    "acct1.deposit(50)"
   ]
  },
  {
   "cell_type": "code",
   "execution_count": 9,
   "metadata": {},
   "outputs": [
    {
     "name": "stdout",
     "output_type": "stream",
     "text": [
      "Снятие выполнено\n"
     ]
    }
   ],
   "source": [
    "acct1.withdraw(75)"
   ]
  },
  {
   "cell_type": "code",
   "execution_count": 10,
   "metadata": {},
   "outputs": [
    {
     "name": "stdout",
     "output_type": "stream",
     "text": [
      "Недостаточно средств!\n"
     ]
    }
   ],
   "source": [
    "# 6. Пытаемся выполнить снятие, которое превышает текущий доступный баланс\n",
    "acct1.withdraw(500)"
   ]
  },
  {
   "cell_type": "markdown",
   "metadata": {},
   "source": [
    "## Отличная работа!"
   ]
  }
 ],
 "metadata": {
  "kernelspec": {
   "display_name": "Python [conda env:base] *",
   "language": "python",
   "name": "conda-base-py"
  },
  "language_info": {
   "codemirror_mode": {
    "name": "ipython",
    "version": 3
   },
   "file_extension": ".py",
   "mimetype": "text/x-python",
   "name": "python",
   "nbconvert_exporter": "python",
   "pygments_lexer": "ipython3",
   "version": "3.12.7"
  }
 },
 "nbformat": 4,
 "nbformat_minor": 4
}
