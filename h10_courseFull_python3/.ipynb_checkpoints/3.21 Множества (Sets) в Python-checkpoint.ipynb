{
 "cells": [
  {
   "cell_type": "code",
   "execution_count": null,
   "id": "fa5c5aae-2a5a-4330-9c5d-c38d6cc51e93",
   "metadata": {},
   "outputs": [],
   "source": [
    "# 3.21 Множества (Sets) в Python\n",
    "\n",
    "# множество:пустое\n",
    "set_1 = set()\n",
    "\n",
    "# добавить объект в-множество.\n"
   ]
  }
 ],
 "metadata": {
  "kernelspec": {
   "display_name": "Python 3 (ipykernel)",
   "language": "python",
   "name": "python3"
  },
  "language_info": {
   "codemirror_mode": {
    "name": "ipython",
    "version": 3
   },
   "file_extension": ".py",
   "mimetype": "text/x-python",
   "name": "python",
   "nbconvert_exporter": "python",
   "pygments_lexer": "ipython3",
   "version": "3.12.4"
  }
 },
 "nbformat": 4,
 "nbformat_minor": 5
}
