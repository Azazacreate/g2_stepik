{
 "cells": [
  {
   "cell_type": "code",
   "execution_count": 60,
   "id": "7dfba39d-4038-4d9c-9374-c7f286791719",
   "metadata": {},
   "outputs": [
    {
     "name": "stdout",
     "output_type": "stream",
     "text": [
      "created Animal\n",
      "-\n",
      "I am an animal\n",
      "I am eating\n"
     ]
    }
   ],
   "source": [
    "# наследование\n",
    "class Animal():\n",
    "    def __init__(self):\n",
    "        print('created Animal')\n",
    "    def who_am_i(self):\n",
    "        return('I am an animal')\n",
    "    def eat(self):\n",
    "        return('I am eating')\n",
    "\n",
    "animal_1 = Animal()\n",
    "\n",
    "print(\n",
    "    '-'\n",
    "    ,animal_1.who_am_i()\n",
    "    ,animal_1.eat()\n",
    "    ,sep='\\n'\n",
    ")"
   ]
  },
  {
   "cell_type": "code",
   "execution_count": 68,
   "id": "fb9ffbe8-60e4-4e01-80b7-ac15e490db46",
   "metadata": {},
   "outputs": [
    {
     "name": "stdout",
     "output_type": "stream",
     "text": [
      "created Animal\n",
      "created Dog\n",
      "-\n",
      "I am a dog\n",
      "I am eating food for dog\n",
      "Woof! iamdog\n"
     ]
    }
   ],
   "source": [
    "class Dog(Animal):\n",
    "    def __init__(self):\n",
    "        Animal.__init__(self)\n",
    "        print('created Dog')\n",
    "    def who_am_i(self):\n",
    "        return 'I am a dog'\n",
    "    def eat(self):\n",
    "        return('I am eating food for dog')\n",
    "    def bark(self):\n",
    "        return('Woof! iamdog')\n",
    "\n",
    "dog_1 = Dog()\n",
    "\n",
    "print(\n",
    "    '-'\n",
    "    ,dog_1.who_am_i()\n",
    "    ,dog_1.eat()\n",
    "    ,dog_1.bark()\n",
    "    ,sep='\\n'\n",
    ")"
   ]
  },
  {
   "cell_type": "code",
   "execution_count": 84,
   "id": "06d9a543-8ef2-4379-9f5e-dd27245f9034",
   "metadata": {},
   "outputs": [
    {
     "name": "stdout",
     "output_type": "stream",
     "text": [
      "niko say woof!\n",
      "felix say meow!\n"
     ]
    }
   ],
   "source": [
    "# полиморфизм = описывает как несколько-классовРазных могут-использовать 1-название_метода ?\n",
    "class Dog():\n",
    "    def __init__(self, name):\n",
    "        self.name = name\n",
    "    def speak(self):\n",
    "        return self.name + ' say woof!'\n",
    "\n",
    "class Cat():\n",
    "    def __init__(self, name):\n",
    "        self.name = name\n",
    "    def speak(self):\n",
    "        return self.name + ' say meow!'\n",
    "\n",
    "niko = Dog('niko')\n",
    "felix = Cat('felix')\n",
    "\n",
    "print(\n",
    "    niko.speak()\n",
    "    ,felix.speak()\n",
    "    ,sep='\\n'\n",
    ")"
   ]
  },
  {
   "cell_type": "code",
   "execution_count": 86,
   "id": "d940b901-297c-445e-ad67-cb5e60154b76",
   "metadata": {},
   "outputs": [
    {
     "name": "stdout",
     "output_type": "stream",
     "text": [
      "<class '__main__.Dog'>\n",
      "<class 'method'>\n",
      "<class '__main__.Cat'>\n",
      "<class 'method'>\n"
     ]
    }
   ],
   "source": [
    "for pet in [niko, felix]:\n",
    "    print(type(pet))\n",
    "    print(type(pet.speak))"
   ]
  },
  {
   "cell_type": "code",
   "execution_count": 94,
   "id": "8b281022-636a-4c75-98ed-6d87395bfad5",
   "metadata": {},
   "outputs": [
    {
     "name": "stdout",
     "output_type": "stream",
     "text": [
      "niko say woof!\n"
     ]
    }
   ],
   "source": [
    "def pet__speak(pet):\n",
    "    print(pet.speak())\n",
    "\n",
    "pet__speak(niko)"
   ]
  },
  {
   "cell_type": "code",
   "execution_count": 96,
   "id": "c51ca478-434c-422e-a615-858384a57018",
   "metadata": {},
   "outputs": [
    {
     "name": "stdout",
     "output_type": "stream",
     "text": [
      "niko say woof!\n"
     ]
    }
   ],
   "source": [
    "pet__speak(niko)"
   ]
  },
  {
   "cell_type": "code",
   "execution_count": 106,
   "id": "42684cf8-914a-438b-b3d1-14fbc27279b0",
   "metadata": {},
   "outputs": [
    {
     "name": "stdout",
     "output_type": "stream",
     "text": [
      "Fido say woof !\n",
      "Isis say meow !\n"
     ]
    }
   ],
   "source": [
    "# классАбстрактный = класс, который должен-быть:обязательно наследован.\n",
    "# т.е ожидается, что от классаАбстрактного не-будут вызываться экземпляры_класса\n",
    "class Animal():\n",
    "    def __init__(self, name):\n",
    "        self.name = name\n",
    "    def speak(self):\n",
    "        raise NotImplementedError('Subclass must implement this abstract method')    # вызовемСами ошибку\n",
    "\n",
    "class Dog(Animal):\n",
    "    def speak(self):\n",
    "        return self.name + ' say woof !'\n",
    "\n",
    "class Cat(Animal):\n",
    "    def speak(self):\n",
    "        return self.name + ' say meow !'\n",
    "\n",
    "fido = Dog('Fido')\n",
    "isis = Cat('Isis')\n",
    "print(\n",
    "    fido.speak()\n",
    "    ,isis.speak()\n",
    "    ,sep='\\n'\n",
    ")"
   ]
  }
 ],
 "metadata": {
  "kernelspec": {
   "display_name": "Python [conda env:base] *",
   "language": "python",
   "name": "conda-base-py"
  },
  "language_info": {
   "codemirror_mode": {
    "name": "ipython",
    "version": 3
   },
   "file_extension": ".py",
   "mimetype": "text/x-python",
   "name": "python",
   "nbconvert_exporter": "python",
   "pygments_lexer": "ipython3",
   "version": "3.12.7"
  }
 },
 "nbformat": 4,
 "nbformat_minor": 5
}
