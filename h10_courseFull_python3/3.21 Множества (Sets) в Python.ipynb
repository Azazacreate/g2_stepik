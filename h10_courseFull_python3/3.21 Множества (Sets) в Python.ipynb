{
 "cells": [
  {
   "cell_type": "code",
   "execution_count": 1,
   "id": "fa5c5aae-2a5a-4330-9c5d-c38d6cc51e93",
   "metadata": {},
   "outputs": [
    {
     "data": {
      "text/plain": [
       "{1}"
      ]
     },
     "execution_count": 1,
     "metadata": {},
     "output_type": "execute_result"
    }
   ],
   "source": [
    "# 3.21 Множества (Sets) в Python\n",
    "\n",
    "# множество:пустое\n",
    "set_1 = set()\n",
    "\n",
    "# добавить объект в-множество.\n",
    "set_1.add(1)\n",
    "set_1"
   ]
  },
  {
   "cell_type": "code",
   "execution_count": 11,
   "id": "a26f3251-48f8-4255-96fe-8595fa308003",
   "metadata": {},
   "outputs": [
    {
     "data": {
      "text/plain": [
       "{1, 2}"
      ]
     },
     "execution_count": 11,
     "metadata": {},
     "output_type": "execute_result"
    }
   ],
   "source": [
    "set_1 = {1}\n",
    "set_1.add(2)\n",
    "set_1.add(2)\n",
    "set_1.add(2)\n",
    "set_1"
   ]
  },
  {
   "cell_type": "code",
   "execution_count": 15,
   "id": "9501f4bf-e571-46ad-ada4-6ae83036d48a",
   "metadata": {},
   "outputs": [
    {
     "data": {
      "text/plain": [
       "{1, 2, 3, False, None}"
      ]
     },
     "execution_count": 15,
     "metadata": {},
     "output_type": "execute_result"
    }
   ],
   "source": [
    "list_1 = [1, 1, 1, 2, 3, 3, False, False, True, False, None]\n",
    "set(list_1)"
   ]
  },
  {
   "cell_type": "code",
   "execution_count": null,
   "id": "6fb1c438-f05f-4aa3-b705-1b8fabae182c",
   "metadata": {},
   "outputs": [],
   "source": []
  }
 ],
 "metadata": {
  "kernelspec": {
   "display_name": "Python 3 (ipykernel)",
   "language": "python",
   "name": "python3"
  },
  "language_info": {
   "codemirror_mode": {
    "name": "ipython",
    "version": 3
   },
   "file_extension": ".py",
   "mimetype": "text/x-python",
   "name": "python",
   "nbconvert_exporter": "python",
   "pygments_lexer": "ipython3",
   "version": "3.12.4"
  }
 },
 "nbformat": 4,
 "nbformat_minor": 5
}
