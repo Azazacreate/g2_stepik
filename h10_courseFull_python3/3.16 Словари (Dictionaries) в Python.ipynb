{
 "cells": [
  {
   "cell_type": "markdown",
   "id": "fa7d6e6c-627c-4911-9ded-b63e95890518",
   "metadata": {},
   "source": [
    "3.16 Словари (Dictionaries) в Python"
   ]
  },
  {
   "cell_type": "code",
   "execution_count": 1,
   "id": "17467089-e8bf-4acb-9f90-9d7d262ca2a6",
   "metadata": {},
   "outputs": [
    {
     "data": {
      "text/plain": [
       "{'key_1': 'value_1', 'key_2': 'value_2'}"
      ]
     },
     "execution_count": 1,
     "metadata": {},
     "output_type": "execute_result"
    }
   ],
   "source": [
    "dict = {\"key_1\": \"value_1\", \"key_2\":\"value_2\"}\n",
    "dict"
   ]
  },
  {
   "cell_type": "code",
   "execution_count": 3,
   "id": "67650132-2512-4bfd-80d9-966ff13a2506",
   "metadata": {},
   "outputs": [
    {
     "data": {
      "text/plain": [
       "'value_1'"
      ]
     },
     "execution_count": 3,
     "metadata": {},
     "output_type": "execute_result"
    }
   ],
   "source": [
    "dict[\"key_1\"]"
   ]
  },
  {
   "cell_type": "code",
   "execution_count": 5,
   "id": "05ca53ae-abb0-40c9-8ed0-8234820f006f",
   "metadata": {},
   "outputs": [
    {
     "data": {
      "text/plain": [
       "2.99"
      ]
     },
     "execution_count": 5,
     "metadata": {},
     "output_type": "execute_result"
    }
   ],
   "source": [
    "dict_prices = {\"apple\":2.99, \"ice cream\":399}\n",
    "dict_prices[\"apple\"]"
   ]
  },
  {
   "cell_type": "markdown",
   "id": "1adbce3e-f06a-4c9e-a514-1c9cf3c5b680",
   "metadata": {},
   "source": [
    "* словари могут-хранить типы_данных:любые.\n",
    "* словари могут-хранить сами-словари,списки в-словаре."
   ]
  },
  {
   "cell_type": "code",
   "execution_count": 16,
   "id": "5035e319-8535-45d1-8208-c9ebfd273fbb",
   "metadata": {},
   "outputs": [
    {
     "data": {
      "text/plain": [
       "[0, 1, 2]"
      ]
     },
     "execution_count": 16,
     "metadata": {},
     "output_type": "execute_result"
    }
   ],
   "source": [
    "dict_3 = {\"key_1\":\"value_1\", \"k2\":[0, 1, 2], \"key_3\":{\"keyInside\": 100}}\n",
    "dict_3[\"k2\"]"
   ]
  },
  {
   "cell_type": "code",
   "execution_count": 14,
   "id": "aa3c5f39-1a43-494b-b574-86074b9a6285",
   "metadata": {},
   "outputs": [
    {
     "data": {
      "text/plain": [
       "1"
      ]
     },
     "execution_count": 14,
     "metadata": {},
     "output_type": "execute_result"
    }
   ],
   "source": [
    "dict_3[\"k2\"][1]"
   ]
  },
  {
   "cell_type": "code",
   "execution_count": 20,
   "id": "b653df98-6568-45c1-81ce-de5cad3a3db0",
   "metadata": {},
   "outputs": [
    {
     "data": {
      "text/plain": [
       "{'keyInside': 100}"
      ]
     },
     "execution_count": 20,
     "metadata": {},
     "output_type": "execute_result"
    }
   ],
   "source": [
    "dict_3[\"key_3\"]"
   ]
  },
  {
   "cell_type": "code",
   "execution_count": 22,
   "id": "3a09dc0b-0d4b-4dc1-9efe-46ca80963f93",
   "metadata": {},
   "outputs": [
    {
     "data": {
      "text/plain": [
       "100"
      ]
     },
     "execution_count": 22,
     "metadata": {},
     "output_type": "execute_result"
    }
   ],
   "source": [
    "dict_3[\"key_3\"][\"keyInside\"]"
   ]
  },
  {
   "cell_type": "code",
   "execution_count": 24,
   "id": "fcaf2fcb-9888-4388-9566-05782178ee04",
   "metadata": {},
   "outputs": [
    {
     "data": {
      "text/plain": [
       "{'k1': 100, 'key_2': 200, 'key_3': 300}"
      ]
     },
     "execution_count": 24,
     "metadata": {},
     "output_type": "execute_result"
    }
   ],
   "source": [
    "# добавить значения:новые в-словарь.\n",
    "d = {\"k1\":100, \"key_2\":200, }\n",
    "d[\"key_3\"] = 300\n",
    "d"
   ]
  },
  {
   "cell_type": "code",
   "execution_count": 26,
   "id": "d0c76e2b-53ee-433d-bfd8-78d365137288",
   "metadata": {},
   "outputs": [
    {
     "data": {
      "text/plain": [
       "{'k1': 999, 'key_2': 200, 'key_3': 300}"
      ]
     },
     "execution_count": 26,
     "metadata": {},
     "output_type": "execute_result"
    }
   ],
   "source": [
    "# перезаписать значение_словаря\n",
    "d[\"k1\"] = 999\n",
    "d"
   ]
  },
  {
   "cell_type": "code",
   "execution_count": 28,
   "id": "412125c5-6461-4e22-9538-2ce39cfbd04f",
   "metadata": {},
   "outputs": [
    {
     "data": {
      "text/plain": [
       "dict_keys(['k1', 'key_2', 'key_3'])"
      ]
     },
     "execution_count": 28,
     "metadata": {},
     "output_type": "execute_result"
    }
   ],
   "source": [
    "# получить все-ключи_словаря\n",
    "d = {'k1': 100, 'key_2': 200, 'key_3': 300}\n",
    "d.keys()"
   ]
  },
  {
   "cell_type": "code",
   "execution_count": 30,
   "id": "82675c01-bed4-4144-9466-ade88e165910",
   "metadata": {},
   "outputs": [
    {
     "data": {
      "text/plain": [
       "dict_values([100, 200, 300])"
      ]
     },
     "execution_count": 30,
     "metadata": {},
     "output_type": "execute_result"
    }
   ],
   "source": [
    "d.values()"
   ]
  },
  {
   "cell_type": "code",
   "execution_count": 32,
   "id": "d4af482d-9481-4a46-ada8-ea25e7e1a3fe",
   "metadata": {},
   "outputs": [
    {
     "data": {
      "text/plain": [
       "dict_items([('k1', 100), ('key_2', 200), ('key_3', 300)])"
      ]
     },
     "execution_count": 32,
     "metadata": {},
     "output_type": "execute_result"
    }
   ],
   "source": [
    "d.items()"
   ]
  },
  {
   "cell_type": "code",
   "execution_count": null,
   "id": "8fceba58-2d14-4daf-90a2-b9ff196c56ed",
   "metadata": {},
   "outputs": [],
   "source": []
  }
 ],
 "metadata": {
  "kernelspec": {
   "display_name": "Python 3 (ipykernel)",
   "language": "python",
   "name": "python3"
  },
  "language_info": {
   "codemirror_mode": {
    "name": "ipython",
    "version": 3
   },
   "file_extension": ".py",
   "mimetype": "text/x-python",
   "name": "python",
   "nbconvert_exporter": "python",
   "pygments_lexer": "ipython3",
   "version": "3.12.4"
  }
 },
 "nbformat": 4,
 "nbformat_minor": 5
}
