{
 "cells": [
  {
   "cell_type": "code",
   "execution_count": 114,
   "id": "4c12826c-72f3-4c12-9b7e-e9458fec26bf",
   "metadata": {},
   "outputs": [],
   "source": [
    "# 3.24_Ввод-вывод (I/O) для файлов в Python"
   ]
  },
  {
   "cell_type": "code",
   "execution_count": 115,
   "id": "1fbcfad2-999e-42b6-b27c-4a205ed823ad",
   "metadata": {},
   "outputs": [
    {
     "name": "stdout",
     "output_type": "stream",
     "text": [
      "Overwriting file_1.txt\n"
     ]
    }
   ],
   "source": [
    "%%writefile file_1.txt\n",
    "строка-1\n",
    "String number_2\n",
    "Третья строка\n",
    "строка:четвертая\n",
    "# это работает только-в-Jupyter-notebook\n",
    "# эта-команда должна-находиться в-строке-1_ячейки.\n",
    "# а иначе -> не-будет-работать !"
   ]
  },
  {
   "cell_type": "code",
   "execution_count": 116,
   "id": "2f4c8d1d-db02-46bb-ac28-39609a389dcf",
   "metadata": {},
   "outputs": [
    {
     "data": {
      "text/plain": [
       "'/Users/a1111/Documents/_c2/f5_professional/g6_self_education/g2_Stepik/h10_Полный курс Python 3'"
      ]
     },
     "execution_count": 116,
     "metadata": {},
     "output_type": "execute_result"
    }
   ],
   "source": [
    "pwd"
   ]
  },
  {
   "cell_type": "code",
   "execution_count": 117,
   "id": "31ee7668-7ea1-4370-9a95-6f982149576d",
   "metadata": {},
   "outputs": [],
   "source": [
    "file_1 = open(\"file_1.txt\")"
   ]
  },
  {
   "cell_type": "code",
   "execution_count": 118,
   "id": "b695640a-e956-4f1f-a793-0f377092189c",
   "metadata": {},
   "outputs": [
    {
     "data": {
      "text/plain": [
       "'строка-1\\nString number_2\\nТретья строка\\nстрока:четвертая\\n# это работает только-в-Jupyter-notebook\\n# эта-команда должна-находиться в-строке-1_ячейки.\\n# а иначе -> не-будет-работать !\\n'"
      ]
     },
     "execution_count": 118,
     "metadata": {},
     "output_type": "execute_result"
    }
   ],
   "source": [
    "# .read() = вернуть 1-строку:большую\n",
    "file_1.read()"
   ]
  },
  {
   "cell_type": "code",
   "execution_count": 119,
   "id": "c32b3061-9dde-4a70-9ad1-7d65f187895b",
   "metadata": {},
   "outputs": [
    {
     "data": {
      "text/plain": [
       "[]"
      ]
     },
     "execution_count": 119,
     "metadata": {},
     "output_type": "execute_result"
    }
   ],
   "source": [
    "file_1.readlines()"
   ]
  },
  {
   "cell_type": "code",
   "execution_count": 120,
   "id": "1b5b45cd-1cd7-4fa1-9360-1eff65887e55",
   "metadata": {},
   "outputs": [
    {
     "data": {
      "text/plain": [
       "0"
      ]
     },
     "execution_count": 120,
     "metadata": {},
     "output_type": "execute_result"
    }
   ],
   "source": [
    "file_1.seek(0)"
   ]
  },
  {
   "cell_type": "code",
   "execution_count": 121,
   "id": "0ab5b4f8-ca4f-4af5-833a-280940fbe874",
   "metadata": {},
   "outputs": [
    {
     "data": {
      "text/plain": [
       "['строка-1\\n',\n",
       " 'String number_2\\n',\n",
       " 'Третья строка\\n',\n",
       " 'строка:четвертая\\n',\n",
       " '# это работает только-в-Jupyter-notebook\\n',\n",
       " '# эта-команда должна-находиться в-строке-1_ячейки.\\n',\n",
       " '# а иначе -> не-будет-работать !\\n']"
      ]
     },
     "execution_count": 121,
     "metadata": {},
     "output_type": "execute_result"
    }
   ],
   "source": [
    "file_1.seek(0)\n",
    "file_1.readlines()"
   ]
  },
  {
   "cell_type": "code",
   "execution_count": 122,
   "id": "233fb813-8f92-4e6c-8d16-c84a36843ea0",
   "metadata": {},
   "outputs": [
    {
     "data": {
      "text/plain": [
       "['строка-1\\n',\n",
       " 'String number_2\\n',\n",
       " 'Третья строка\\n',\n",
       " 'строка:четвертая\\n',\n",
       " '# это работает только-в-Jupyter-notebook\\n',\n",
       " '# эта-команда должна-находиться в-строке-1_ячейки.\\n',\n",
       " '# а иначе -> не-будет-работать !\\n']"
      ]
     },
     "execution_count": 122,
     "metadata": {},
     "output_type": "execute_result"
    }
   ],
   "source": [
    "file_1.seek(0)\n",
    "df_1 = file_1.readlines()\n",
    "df_1"
   ]
  },
  {
   "cell_type": "code",
   "execution_count": 149,
   "id": "67f3d035-5b74-4d2b-b252-a90d13b9c94a",
   "metadata": {},
   "outputs": [
    {
     "data": {
      "text/plain": [
       "['строка-1\\n',\n",
       " 'String number_2\\n',\n",
       " 'Третья строка\\n',\n",
       " 'строка:четвертая\\n',\n",
       " '# это работает только-в-Jupyter-notebook\\n',\n",
       " '# эта-команда должна-находиться в-строке-1_ячейки.\\n',\n",
       " '# а иначе -> не-будет-работать !']"
      ]
     },
     "execution_count": 149,
     "metadata": {},
     "output_type": "execute_result"
    }
   ],
   "source": [
    "with open(\"file_1.txt\", \"r\") as file_2:\n",
    "    file_2.seek(0)\n",
    "    file_3 = file_2.readlines()\n",
    "file_3"
   ]
  },
  {
   "cell_type": "code",
   "execution_count": 155,
   "id": "97cdbae0-358d-4d00-9419-ba01ef557b03",
   "metadata": {},
   "outputs": [
    {
     "data": {
      "text/plain": [
       "'/Users/a1111/Documents/_c2/f5_professional/g6_self_education/g2_Stepik/h10_Полный курс Python 3'"
      ]
     },
     "execution_count": 155,
     "metadata": {},
     "output_type": "execute_result"
    }
   ],
   "source": [
    "pwd"
   ]
  },
  {
   "cell_type": "code",
   "execution_count": 159,
   "id": "0ce67771-b47d-4a63-84c2-9e16d9d049b8",
   "metadata": {},
   "outputs": [],
   "source": [
    "# 3.2[ Записать в-файл\n",
    "with open(\"file_4.txt\", \"w\") as file_4:\n",
    "    file_4.write(\"1 в-строке-1\\n2 в-строке-2\")"
   ]
  },
  {
   "cell_type": "code",
   "execution_count": 163,
   "id": "e0b9ede9-04e2-4509-91e1-74aa7c86603a",
   "metadata": {},
   "outputs": [],
   "source": [
    "# 3.3[ Append to-file\n",
    "with open(\"file_4.txt\", \"a\") as file_4:\n",
    "    file_4.write(\"\\n3 в-строке-3\\nfour in-string-4.\")"
   ]
  },
  {
   "cell_type": "code",
   "execution_count": 177,
   "id": "3cc18e99-9082-4df0-a964-c5c06152cc8a",
   "metadata": {},
   "outputs": [
    {
     "name": "stdout",
     "output_type": "stream",
     "text": [
      "1 в-строке-1\n",
      "2 в-строке-2\n",
      "3 в-строке-3\n",
      "four in-string-4. \n",
      "~~~~~~~~\n",
      "1 в-строке-1\n",
      " \n",
      "~~~~~~~~\n",
      "['1 в-строке-1\\n', '2 в-строке-2\\n', '3 в-строке-3\\n', 'four in-string-4.']\n"
     ]
    }
   ],
   "source": [
    "with open(\"file_4.txt\") as file_4:\n",
    "    a1 = file_4.read()\n",
    "    file_4.seek(0)\n",
    "    a2 = file_4.readline()\n",
    "    file_4.seek(0)\n",
    "    a3 = file_4.readlines()\n",
    "    file_4.seek(0)\n",
    "print(a1, \"\\n~~~~~~~~\")\n",
    "print(a2, \"\\n~~~~~~~~\")\n",
    "print(a3)"
   ]
  },
  {
   "cell_type": "code",
   "execution_count": null,
   "id": "6ea66950-45eb-466d-b42a-8737e81b795e",
   "metadata": {},
   "outputs": [],
   "source": []
  }
 ],
 "metadata": {
  "kernelspec": {
   "display_name": "Python 3 (ipykernel)",
   "language": "python",
   "name": "python3"
  },
  "language_info": {
   "codemirror_mode": {
    "name": "ipython",
    "version": 3
   },
   "file_extension": ".py",
   "mimetype": "text/x-python",
   "name": "python",
   "nbconvert_exporter": "python",
   "pygments_lexer": "ipython3",
   "version": "3.12.4"
  }
 },
 "nbformat": 4,
 "nbformat_minor": 5
}
