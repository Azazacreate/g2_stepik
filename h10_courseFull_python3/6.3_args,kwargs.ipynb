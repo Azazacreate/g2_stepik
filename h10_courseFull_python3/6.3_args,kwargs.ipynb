{
 "cells": [
  {
   "cell_type": "code",
   "execution_count": 10,
   "id": "c1d11224-c089-47ac-a89e-1eb0f30460ca",
   "metadata": {},
   "outputs": [
    {
     "data": {
      "text/plain": [
       "(1, 2, 3)"
      ]
     },
     "execution_count": 10,
     "metadata": {},
     "output_type": "execute_result"
    }
   ],
   "source": [
    "def function_1(*args):\n",
    "    return args\n",
    "function_1(1, 2, 3)            # вернет кортеж"
   ]
  },
  {
   "cell_type": "code",
   "execution_count": 8,
   "id": "de20a72e-82d0-4bf6-9de9-adce1056f1e7",
   "metadata": {},
   "outputs": [
    {
     "name": "stdout",
     "output_type": "stream",
     "text": [
      "i chose fruit - apple\n"
     ]
    }
   ],
   "source": [
    "def function_2(**kwargs):\n",
    "    if 'fruit' in kwargs:\n",
    "        print(f'i chose fruit - {kwargs['fruit']}')\n",
    "    else:\n",
    "        print('i didn\\'t find any-fruit here')\n",
    "function_2(fruit='apple', veggie = 'lettuce')"
   ]
  },
  {
   "cell_type": "code",
   "execution_count": 18,
   "id": "ad9bf361-34bb-4933-bae9-9555dcc6dbd3",
   "metadata": {},
   "outputs": [
    {
     "name": "stdout",
     "output_type": "stream",
     "text": [
      "(10, 20)\n",
      "{'food': 'cake', 'fruit': 'orange', 'animal': 'dog'}\n",
      "I want buy 10 + cake\n"
     ]
    }
   ],
   "source": [
    "def function_3(*args, **kwargs):\n",
    "    print(args)\n",
    "    print(kwargs)\n",
    "    print(f'I want buy {args[0]} + {kwargs['food']}')\n",
    "function_3(10, 20, food='cake', fruit='orange', animal='dog')"
   ]
  }
 ],
 "metadata": {
  "kernelspec": {
   "display_name": "Python [conda env:base] *",
   "language": "python",
   "name": "conda-base-py"
  },
  "language_info": {
   "codemirror_mode": {
    "name": "ipython",
    "version": 3
   },
   "file_extension": ".py",
   "mimetype": "text/x-python",
   "name": "python",
   "nbconvert_exporter": "python",
   "pygments_lexer": "ipython3",
   "version": "3.12.7"
  }
 },
 "nbformat": 4,
 "nbformat_minor": 5
}
