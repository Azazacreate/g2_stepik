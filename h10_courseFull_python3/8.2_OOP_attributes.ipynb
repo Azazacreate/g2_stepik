{
 "cells": [
  {
   "cell_type": "code",
   "execution_count": 10,
   "id": "0473f230-cdc4-48c0-b00d-f7934c8fd8e8",
   "metadata": {},
   "outputs": [],
   "source": [
    "# 8.2_OOP_attribute\n",
    "class Sample_word():\n",
    "    pass\n",
    "\n",
    "sample_1 = Sample_word()"
   ]
  },
  {
   "cell_type": "code",
   "execution_count": 22,
   "id": "7f70b6c5-5d73-43cd-bd55-b61a37f8e03c",
   "metadata": {},
   "outputs": [
    {
     "data": {
      "text/plain": [
       "'Lab'"
      ]
     },
     "execution_count": 22,
     "metadata": {},
     "output_type": "execute_result"
    }
   ],
   "source": [
    "class Dog():\n",
    "    def __init__(self, breed):\n",
    "        self.breed = breed\n",
    "    \n",
    "dog_1 = Dog(breed='Lab')\n",
    "dog_1.breed"
   ]
  },
  {
   "cell_type": "code",
   "execution_count": 34,
   "id": "3e1deceb-e5ee-4876-87ab-f9aaaba906c4",
   "metadata": {},
   "outputs": [
    {
     "name": "stdout",
     "output_type": "stream",
     "text": [
      "Lab\n",
      "имя_собачки\n",
      "False\n"
     ]
    }
   ],
   "source": [
    "class Dog():\n",
    "    def __init__(self, breed, name, spots):\n",
    "        self.breed = breed\n",
    "        self.name = name\n",
    "        self.spots = spots\n",
    "    \n",
    "dog_1 = Dog(breed='Lab', name='имя_собачки', spots=False)\n",
    "print(\n",
    "    dog_1.breed\n",
    "    ,dog_1.name\n",
    "    ,dog_1.spots\n",
    "    ,sep='\\n'\n",
    ")"
   ]
  }
 ],
 "metadata": {
  "kernelspec": {
   "display_name": "Python [conda env:base] *",
   "language": "python",
   "name": "conda-base-py"
  },
  "language_info": {
   "codemirror_mode": {
    "name": "ipython",
    "version": 3
   },
   "file_extension": ".py",
   "mimetype": "text/x-python",
   "name": "python",
   "nbconvert_exporter": "python",
   "pygments_lexer": "ipython3",
   "version": "3.12.7"
  }
 },
 "nbformat": 4,
 "nbformat_minor": 5
}
