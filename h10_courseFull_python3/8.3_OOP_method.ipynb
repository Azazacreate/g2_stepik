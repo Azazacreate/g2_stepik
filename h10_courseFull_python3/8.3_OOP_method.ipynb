{
 "cells": [
  {
   "cell_type": "code",
   "execution_count": 10,
   "id": "0473f230-cdc4-48c0-b00d-f7934c8fd8e8",
   "metadata": {},
   "outputs": [],
   "source": [
    "# 8.2_OOP_attribute\n",
    "class Sample_word():\n",
    "    pass\n",
    "\n",
    "sample_1 = Sample_word()"
   ]
  },
  {
   "cell_type": "code",
   "execution_count": 22,
   "id": "7f70b6c5-5d73-43cd-bd55-b61a37f8e03c",
   "metadata": {},
   "outputs": [
    {
     "data": {
      "text/plain": [
       "'Lab'"
      ]
     },
     "execution_count": 22,
     "metadata": {},
     "output_type": "execute_result"
    }
   ],
   "source": [
    "class Dog():\n",
    "    def __init__(self, breed):\n",
    "        self.breed = breed\n",
    "    \n",
    "dog_1 = Dog(breed='Lab')\n",
    "dog_1.breed"
   ]
  },
  {
   "cell_type": "code",
   "execution_count": 34,
   "id": "3e1deceb-e5ee-4876-87ab-f9aaaba906c4",
   "metadata": {},
   "outputs": [
    {
     "name": "stdout",
     "output_type": "stream",
     "text": [
      "Lab\n",
      "имя_собачки\n",
      "False\n"
     ]
    }
   ],
   "source": [
    "class Dog():\n",
    "    def __init__(self, breed, name, spots):\n",
    "        self.breed = breed\n",
    "        self.name = name\n",
    "        self.spots = spots\n",
    "    \n",
    "dog_1 = Dog(breed='Lab', name='имя_собачки', spots=False)\n",
    "print(\n",
    "    dog_1.breed\n",
    "    ,dog_1.name\n",
    "    ,dog_1.spots\n",
    "    ,sep='\\n'\n",
    ")"
   ]
  },
  {
   "cell_type": "code",
   "execution_count": 78,
   "id": "1a7dfd03-b672-4498-8f6c-33378cee1c3c",
   "metadata": {},
   "outputs": [
    {
     "name": "stdout",
     "output_type": "stream",
     "text": [
      "Lab\n",
      "Внучка\n",
      "False\n",
      "mammal\n",
      "Woof ! My name is Внучка. I am 8 years.\n",
      "Woof ! My name is Внучка. I am 4 years.\n"
     ]
    }
   ],
   "source": [
    "# 8.3_OOP_method\n",
    "class Dog():\n",
    "    # attribute_class\n",
    "    species = 'mammal'\n",
    "    \n",
    "    def __init__(self, breed, name, spots):\n",
    "        # attribute_instance\n",
    "        self.breed = breed\n",
    "        self.name = name\n",
    "        self.spots = spots\n",
    "    def bark(self, number=8):\n",
    "        return(f'Woof ! My name is {self.name}. I am {number} years.')\n",
    "    \n",
    "dog_1 = Dog('Lab', 'Внучка', spots=False)\n",
    "print(\n",
    "    dog_1.breed\n",
    "    ,dog_1.name\n",
    "    ,dog_1.spots\n",
    "    ,dog_1.species\n",
    "    ,dog_1.bark()\n",
    "    ,dog_1.bark(4)\n",
    "    ,sep='\\n'\n",
    ")"
   ]
  },
  {
   "cell_type": "code",
   "execution_count": 86,
   "id": "95a7ad6b-66c4-48fc-aa4d-283c6729af77",
   "metadata": {},
   "outputs": [
    {
     "name": "stdout",
     "output_type": "stream",
     "text": [
      "1\n",
      "3.14\n",
      "6.28\n"
     ]
    }
   ],
   "source": [
    "class Circle():\n",
    "    pi = 3.14\n",
    "    def __init__(self, radius=1):\n",
    "        self.radius = radius\n",
    "        self.area = radius ** 2 * self.pi\n",
    "    def get__circumference(self):\n",
    "        return self.radius * self.pi * 2\n",
    "\n",
    "circle_1 = Circle()\n",
    "\n",
    "print(\n",
    "    circle_1.radius\n",
    "    ,circle_1.area\n",
    "    ,circle_1.get__circumference()\n",
    "    ,sep='\\n'\n",
    ")"
   ]
  }
 ],
 "metadata": {
  "kernelspec": {
   "display_name": "Python [conda env:base] *",
   "language": "python",
   "name": "conda-base-py"
  },
  "language_info": {
   "codemirror_mode": {
    "name": "ipython",
    "version": 3
   },
   "file_extension": ".py",
   "mimetype": "text/x-python",
   "name": "python",
   "nbconvert_exporter": "python",
   "pygments_lexer": "ipython3",
   "version": "3.12.7"
  }
 },
 "nbformat": 4,
 "nbformat_minor": 5
}
